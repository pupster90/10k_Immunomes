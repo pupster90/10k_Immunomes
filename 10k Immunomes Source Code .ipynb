{
 "cells": [
  {
   "cell_type": "markdown",
   "metadata": {},
   "source": [
    "<font size=8 color=\"gray\">10k Immunomes Source Code</font>"
   ]
  },
  {
   "cell_type": "markdown",
   "metadata": {},
   "source": [
    "**Welcome to the 10k Immunomes Project**"
   ]
  },
  {
   "cell_type": "markdown",
   "metadata": {},
   "source": [
    "This source code creates the [10k immunomes website](http://10kimmunomes.ucsf.edu/)."
   ]
  },
  {
   "cell_type": "markdown",
   "metadata": {},
   "source": [
    "This `.ipynb` file is the **only** place where code is written for the 10k website. No other files that contain code. All of the other files are either images or datasets that the 10k website uses."
   ]
  },
  {
   "cell_type": "markdown",
   "metadata": {},
   "source": [
    "Below is is a summary of how the folder/files of this project are organized:\n",
    "* `10k Immunomes Source Code .ipynb` - All of the source code for the 10k immunomes website\n",
    "* `www` - Where the images used in the 10k site are stored\n",
    "* `data` - Where the biologic data for the 10k website is stored\n",
    "* `analytics` - Prefabricated javascript file used to track website usage with [google analytics](analytics.google.com)\n",
    "* `other_code` - Code that is not neccesary for running the application"
   ]
  },
  {
   "cell_type": "markdown",
   "metadata": {},
   "source": [
    "To get a better understanding of how this code works, it's reccomended that you first view the simpler \"Template\" examples inside of the `other_code` folder. You can run the \"Template\" files by moving them into the same file location as `10k Immunomes Source Code .ipynb` and then clicking the \"web\" button."
   ]
  },
  {
   "cell_type": "markdown",
   "metadata": {},
   "source": [
    "# <font color=\"gray\">Set Up Notebook</font>"
   ]
  },
  {
   "cell_type": "markdown",
   "metadata": {},
   "source": [
    "This section gets everythng ready for us to start coding. Specifically it imports all of the required packages and loads in the datasets we need of the website."
   ]
  },
  {
   "cell_type": "markdown",
   "metadata": {},
   "source": [
    "## Import Packages"
   ]
  },
  {
   "cell_type": "markdown",
   "metadata": {},
   "source": [
    "Shiny and stats packages"
   ]
  },
  {
   "cell_type": "code",
   "execution_count": 4094,
   "metadata": {},
   "outputs": [],
   "source": [
    "require(shiny)\n",
    "require(digest) \n",
    "require(grid)\n",
    "require(MASS) \n",
    "require(stats) \n",
    "require(shinyjs) "
   ]
  },
  {
   "cell_type": "markdown",
   "metadata": {},
   "source": [
    "Plotting Packages"
   ]
  },
  {
   "cell_type": "code",
   "execution_count": 4095,
   "metadata": {},
   "outputs": [],
   "source": [
    "library(ggplot2)\n",
    "library(plotly)\n",
    "library(ggthemes)"
   ]
  },
  {
   "cell_type": "markdown",
   "metadata": {},
   "source": [
    "## Download Everything <small>(if necessary)</small>"
   ]
  },
  {
   "cell_type": "markdown",
   "metadata": {},
   "source": [
    "Here we downloald of the necessary files to run the 10k website."
   ]
  },
  {
   "cell_type": "markdown",
   "metadata": {},
   "source": [
    "### Download Website Images "
   ]
  },
  {
   "cell_type": "code",
   "execution_count": 4096,
   "metadata": {},
   "outputs": [],
   "source": [
    "if( !'www' %in% list.files() ){\n",
    "    print(\"Downloading web resource files\")\n",
    "    dir.create(\"www\")\n",
    "    download.file(url=\"https://storage.googleapis.com/bakar-data/10k/www/Banner.jpeg\",\n",
    "                  destfile=\"www/Banner.jpeg\", method=\"wget\")\n",
    "    download.file(url=\"https://storage.googleapis.com/bakar-data/10k/www/Figure_1.png\",\n",
    "                  destfile=\"www/Figure_1.png\", method=\"wget\")\n",
    "    download.file(url=\"https://storage.googleapis.com/bakar-data/10k/www/Table_1.jpg\",\n",
    "                  destfile=\"www/Table_1.jpg\", method=\"wget\")\n",
    "    print(\"Done\")\n",
    "}"
   ]
  },
  {
   "cell_type": "markdown",
   "metadata": {},
   "source": [
    "### Download analytics files "
   ]
  },
  {
   "cell_type": "markdown",
   "metadata": {},
   "source": [
    "Here we download analytics `.js` files that google uses to track the website"
   ]
  },
  {
   "cell_type": "code",
   "execution_count": 4097,
   "metadata": {},
   "outputs": [],
   "source": [
    "if( !'analytics' %in% list.files() ){\n",
    "    print(\"Downloading analytics files\")\n",
    "    dir.create(\"analytics\")\n",
    "    download.file(url=\"https://storage.googleapis.com/bakar-data/10k/analytics/analytics.org.js\",\n",
    "                  destfile=\"analytics/analytics.org.js\", method=\"wget\")\n",
    "    download.file(url=\"https://storage.googleapis.com/bakar-data/10k/analytics/analytics.ucsf.js\",\n",
    "                  destfile=\"analytics/analytics.ucsf.js\", method=\"wget\")\n",
    "    print(\"Done\")\n",
    "}"
   ]
  },
  {
   "cell_type": "markdown",
   "metadata": {},
   "source": [
    "### Download Data "
   ]
  },
  {
   "cell_type": "markdown",
   "metadata": {},
   "source": [
    "This downloads the immunological data files that are used to create the graphs "
   ]
  },
  {
   "cell_type": "code",
   "execution_count": 4098,
   "metadata": {},
   "outputs": [],
   "source": [
    "if( !'data' %in% list.files() ){\n",
    "    print(\"Downloading data files\")\n",
    "    dir.create(\"data\")\n",
    "    download.file(url=\"https://storage.googleapis.com/bakar-data/10k/data_app/newtenkdata.rdata\",\n",
    "                  destfile=\"data/newtenkdata.rdata\", method=\"wget\") # Kelly's 10k dataset\n",
    "    download.file(url=\"https://storage.googleapis.com/bakar-data/10k/data_app/Guinea_RNA.csv\",\n",
    "                  destfile=\"data/Guinea_RNA.csv\", method=\"wget\") # New Guinea RNA data\n",
    "    download.file(url=\"https://storage.googleapis.com/bakar-data/10k/data_app/png_metabolomics.725331.csv\",\n",
    "                  destfile=\"data/png_metabolomics.725331.csv\", method=\"wget\") # New Guinea Metabolomics dataset\n",
    "    print(\"Done\")\n",
    "}"
   ]
  },
  {
   "cell_type": "markdown",
   "metadata": {},
   "source": [
    "## Load in Datasets and Resources"
   ]
  },
  {
   "cell_type": "markdown",
   "metadata": {},
   "source": [
    " Add the `www`, `analytics`, and `data` folder to R Shiny's file path. Se that we can display images in the website."
   ]
  },
  {
   "cell_type": "code",
   "execution_count": 4099,
   "metadata": {},
   "outputs": [],
   "source": [
    "addResourcePath(\"www\", paste(getwd() , \"/www\", sep=\"\") )\n",
    "addResourcePath(\"analytics\", paste(getwd() , \"/analytics\", sep=\"\") )\n",
    "addResourcePath(\"data\", paste(getwd() , \"/data\", sep=\"\") )"
   ]
  },
  {
   "cell_type": "markdown",
   "metadata": {},
   "source": [
    "Load in Guinea Data \n",
    "\n",
    "<font color=\"red\">Accidently called a Guinea dataset Gambia, fix this later</font>"
   ]
  },
  {
   "cell_type": "code",
   "execution_count": 4100,
   "metadata": {},
   "outputs": [],
   "source": [
    "gambia_rna = read.table( \"data/Guinea_RNA.csv\",  stringsAsFactors=FALSE, header=TRUE, sep=\",\" )\n",
    "guinea_mass_spec = read.csv( \"data/png_metabolomics.725331.csv\",  stringsAsFactors=FALSE, header=TRUE, sep=\",\" )"
   ]
  },
  {
   "cell_type": "markdown",
   "metadata": {},
   "source": [
    "Format `guinea_mass_spec` dataset so looks nicer when plotting"
   ]
  },
  {
   "cell_type": "code",
   "execution_count": 4101,
   "metadata": {},
   "outputs": [],
   "source": [
    "guinea_mass_spec[guinea_mass_spec==\"M\"] = \"Male\"\n",
    "guinea_mass_spec[guinea_mass_spec==\"F\"] = \"Female\"\n",
    "guinea_mass_spec[guinea_mass_spec==\"DelayedGroup\"] = \"Delayed Group\"\n",
    "guinea_mass_spec[guinea_mass_spec==\"VaccinatedGroup\"] = \"Vaccinated Group\""
   ]
  },
  {
   "cell_type": "markdown",
   "metadata": {},
   "source": [
    "For newborns datasets, `gambia_rna`. We remove everyone except the the newborns who received a delayed vacciantion. I found out who was delayed by checking out the file `guinea_mass_spec`"
   ]
  },
  {
   "cell_type": "code",
   "execution_count": 4102,
   "metadata": {},
   "outputs": [],
   "source": [
    "subjects=c(\"P14_D0\",\"P14_D3\",\"P17_D0\",\"P17_D7\",\"P21_D0\",\"P21_D3\",\"P23_D0\",\"P23_D7\",\"P26_D0\",\"P26_D3\",\"P30_D0\",\"P30_D1\",\"P32_D0\",\"P32_D7\",\"P33_D0\",\"P33_D1\",\"P35_D0\",\"P35_D3\")\n",
    "gambia_rna = gambia_rna[,c(\"ensembl\",\"hgnc\",subjects)]\n"
   ]
  },
  {
   "cell_type": "markdown",
   "metadata": {},
   "source": [
    "Load in old 10k data"
   ]
  },
  {
   "cell_type": "code",
   "execution_count": 4103,
   "metadata": {},
   "outputs": [],
   "source": [
    "if( !exists(\"elisaAnalytes\") ){ temp=load('data/newtenkdata.rdata') }\n"
   ]
  },
  {
   "cell_type": "markdown",
   "metadata": {},
   "source": [
    "## Load RNA Data"
   ]
  },
  {
   "cell_type": "markdown",
   "metadata": {},
   "source": [
    "We change the data so that 10k immunomes displays the hamronized rna-seq data instead of just newborns."
   ]
  },
  {
   "cell_type": "markdown",
   "metadata": {},
   "source": [
    "### Whole Blood"
   ]
  },
  {
   "cell_type": "markdown",
   "metadata": {},
   "source": [
    "We load in the counts data from `harmonized_tpm.csv`. "
   ]
  },
  {
   "cell_type": "code",
   "execution_count": 4104,
   "metadata": {},
   "outputs": [],
   "source": [
    "whole_blood_counts  =  read.csv( file = 'data/harmonized_tpm.csv', stringsAsFactors=FALSE ) \n",
    "whole_blood_subjects = read.csv( file = 'subjects_summary_whole_blood.csv', stringsAsFactors=FALSE ) "
   ]
  },
  {
   "cell_type": "markdown",
   "metadata": {},
   "source": [
    "#### Code for Making Data"
   ]
  },
  {
   "cell_type": "markdown",
   "metadata": {},
   "source": [
    "```python\n",
    "# Create harmonized data by matching HarmonRNA output to previous harmonized data\n",
    "whole_blood_counts  =  read.csv( file = 'harmonized_counts.csv', stringsAsFactors=FALSE )  # Load old harmonized data\n",
    "whole_blood_counts2  =  read.csv( file = 'data/harmony_rna_data.csv', stringsAsFactors=FALSE )  # load harmony rna TPM output\n",
    "to_keep= whole_blood_counts[ whole_blood_counts$hgnc %in% whole_blood_counts2$X, 1:2 ] # put genes of harmonyRNA in same order as old dataset\n",
    "to_keep2 = to_keep[order(to_keep$hgnc),]\n",
    "whole_blood_counts3 = whole_blood_counts2[order(whole_blood_counts2$X),]\n",
    "whole_blood_counts4 = cbind( to_keep2$ensembl , whole_blood_counts3 )  # attach ensemble column to harmonyRNA dataset\n",
    "names(whole_blood_counts4)[1] = \"ensembl\"  # Rename columns to match old dataset\n",
    "names(whole_blood_counts4)[2] = \"hgnc\"\n",
    "names_order = c()                             # put the columns of the new dataset in the same order as the old dataset\n",
    "for( name in  names(whole_blood_counts) ){\n",
    "    names_order= c( names_order, which( names(checkit)== name )[1] )\n",
    "}\n",
    "whole_blood_counts5 = whole_blood_counts4[ , names_order ]\n",
    "write.csv( whole_blood_counts5, \"data/harmonized_tpm.csv\", row.names=FALSE)  # save new dataset\n",
    "\n",
    "```"
   ]
  },
  {
   "cell_type": "code",
   "execution_count": 4105,
   "metadata": {},
   "outputs": [
    {
     "data": {
      "text/plain": [
       "NULL"
      ]
     },
     "execution_count": 4105,
     "metadata": {},
     "output_type": "execute_result"
    }
   ],
   "source": [
    "#dim(whole_blood_counts)\n",
    "#names(whole_blood_counts)\n",
    "\n",
    "#dim(rna_counts)\n",
    "#rna_counts[1:10,1:10]\n",
    "#head(adjusted_matrix)\n",
    "#dim(rna_counts)\n",
    "#head(gambia_rna)\n",
    "#dim(rna_counts)\n",
    "#head(rna_counts)\n",
    "#whole_blood_subjects$Subject == names(whole_blood_counts)[c(-1,-2)]\n",
    "\n",
    "#whole_blood_counts[1:10,1:10]"
   ]
  },
  {
   "cell_type": "markdown",
   "metadata": {},
   "source": [
    "We format `whole_blood_counts` so that it expresses data in terms of **TPM**, as [calculated here](https://www.rna-seqblog.com/rpkm-fpkm-and-tpm-clearly-explained/)"
   ]
  },
  {
   "cell_type": "markdown",
   "metadata": {},
   "source": [
    "### PBMC"
   ]
  },
  {
   "cell_type": "markdown",
   "metadata": {},
   "source": [
    "We load in the counts data from `pbmc_harmonized_counts.csv` and `subjects_summary_pbmc.csv`. "
   ]
  },
  {
   "cell_type": "code",
   "execution_count": 4106,
   "metadata": {},
   "outputs": [],
   "source": [
    "pbmc_counts   =  read.csv( file = 'pbmc_harmonized_counts.csv', stringsAsFactors=FALSE ) \n",
    "pbmc_subjects =  read.csv( file = 'subjects_summary_pbmc.csv', stringsAsFactors=FALSE ) "
   ]
  },
  {
   "cell_type": "markdown",
   "metadata": {},
   "source": [
    "Make sure colum names and of `pbmc_counts` and rows of `pbmc_subjects` are in same order"
   ]
  },
  {
   "cell_type": "code",
   "execution_count": 4107,
   "metadata": {},
   "outputs": [
    {
     "data": {
      "text/plain": [
       "NULL"
      ]
     },
     "execution_count": 4107,
     "metadata": {},
     "output_type": "execute_result"
    }
   ],
   "source": [
    "#all(names(pbmc_counts)[-1] ==  pbmc_subjects$Subject)"
   ]
  },
  {
   "cell_type": "markdown",
   "metadata": {},
   "source": [
    "#  <font color=\"blue\">Initialize Shiny</font> "
   ]
  },
  {
   "cell_type": "markdown",
   "metadata": {},
   "source": [
    "To make this projcect more readable we I user **<font color=\"green\">user interface</font>** and **<font color=\"purple\">server</font>** object. I then iteratively append code to these objects a few pieces at a time."
   ]
  },
  {
   "cell_type": "markdown",
   "metadata": {},
   "source": [
    "This line creates the **<font color=\"green\">user interface</font>**, the \"front end\" part of the website that everyone sees."
   ]
  },
  {
   "cell_type": "code",
   "execution_count": 4108,
   "metadata": {},
   "outputs": [],
   "source": [
    "ui = div() "
   ]
  },
  {
   "cell_type": "markdown",
   "metadata": {},
   "source": [
    "We create the **<font color=\"purple\">server</font>** object then we add code to it one at a time in the followign sections."
   ]
  },
  {
   "cell_type": "code",
   "execution_count": 4109,
   "metadata": {},
   "outputs": [],
   "source": [
    "server <- function(input, output, session) { }"
   ]
  },
  {
   "cell_type": "markdown",
   "metadata": {},
   "source": [
    "These lines add [google analytics](https://analytics.google.com/analytics/web/) features to the website. This makes it so that you can track the users button clicks. "
   ]
  },
  {
   "cell_type": "markdown",
   "metadata": {},
   "source": [
    "<font color=\"orange\">NOTE:  I think only 1 of these files is necessary, the other should probably be removed.</font>"
   ]
  },
  {
   "cell_type": "code",
   "execution_count": 4110,
   "metadata": {},
   "outputs": [],
   "source": [
    "ui = tagAppendChild(ui, tags$head(includeScript(\"analytics/analytics.ucsf.js\")) )  \n",
    "ui = tagAppendChild(ui, tags$head(includeScript(\"analytics/analytics.org.js\"))  )"
   ]
  },
  {
   "cell_type": "markdown",
   "metadata": {},
   "source": [
    "We add the hidden element `page` which controls which page the user is on. This is a hack I did to make R shiny have webpages like a normal website"
   ]
  },
  {
   "cell_type": "code",
   "execution_count": 4111,
   "metadata": {},
   "outputs": [],
   "source": [
    "ui = tagAppendChild(ui,  hidden( selectInput('page', choices = c('home','transcriptomics','proteomics', 'immunoassays','lab'), selected = 'home', label=NULL )) )\n"
   ]
  },
  {
   "cell_type": "markdown",
   "metadata": {},
   "source": [
    "## <font color=\"gray\">Helper Function: callConcat</font>"
   ]
  },
  {
   "cell_type": "markdown",
   "metadata": {},
   "source": [
    "<font color=\"blue\">callConcat</font> is a function that combines R expressions. [Link to solution](https://codeday.me/en/qa/20190306/8275.html). I use it to append code to the **<font color=\"purple\">Server Object</font>**"
   ]
  },
  {
   "cell_type": "code",
   "execution_count": 4112,
   "metadata": {},
   "outputs": [],
   "source": [
    "callConcat = function(...) {\n",
    "    ll <- list(...)\n",
    "    ll <- lapply(ll, function(X) as.list(X)[-1])\n",
    "    ll <- do.call(\"c\", ll)\n",
    "    as.call(c(as.symbol(\"{\"), ll))\n",
    "}"
   ]
  },
  {
   "cell_type": "markdown",
   "metadata": {},
   "source": [
    "#  <font color=\"orange\">Titles</font>"
   ]
  },
  {
   "cell_type": "markdown",
   "metadata": {},
   "source": [
    "This is the codes that displays the website material at the top of the page. It's all the code that is above the main buttons of the website. "
   ]
  },
  {
   "cell_type": "markdown",
   "metadata": {},
   "source": [
    "To understand what this section does run the **<font color=\"orange\">Main Page</font>** section and compare it to the actual 10k website."
   ]
  },
  {
   "cell_type": "markdown",
   "metadata": {},
   "source": [
    "## <font color=\"orange\">Main Page"
   ]
  },
  {
   "cell_type": "code",
   "execution_count": 4113,
   "metadata": {
    "scrolled": false
   },
   "outputs": [
    {
     "data": {
      "text/html": [
       "<!doctype html>\n",
       "<html>\n",
       "\t<head>\n",
       "\t\t<meta charset=\"utf-8\">\n",
       "\t\t\n",
       "\t</head>\n",
       "\t<body>\n",
       "\t\t<div data-display-if=\"input.page == &#39;home&#39;\" data-ns-prefix=\"\" title=\"homeAbout\">\n",
       "  <div class=\"row\" style=\"background-color: rgb(217,234,248,.5)\">\n",
       "    <div class=\"col-xs-12 col col-md-10 col-md-offset-1\">\n",
       "      <img src=\"www/Banner.jpeg\" class=\"img-responsive\"/>\n",
       "    </div>\n",
       "  </div>\n",
       "  <div class=\"row\">\n",
       "    <div class=\"jumbotron img-responsive\" style=\"padding: .9em; background-color: rgb(250,250,250)\">\n",
       "      <p>In science it’s important to compare experimental results against a control dataset. However, sometimes it’s not possible obtain data from healthy control subjects. This is especially true when studying the immune system, where scientists run multiple costly tests. 10k immunomes allows anyone to obtain high quality data and create graphics using the latest scientific methods.</p>\n",
       "      <p>\n",
       "        <small>\n",
       "          <strong>What is 10k Immunomes?</strong>\n",
       "          The 10,000 Immunomes Project is a reference dataset for human immunology, \r",
       " derived from over 10,000 control subjects in the\n",
       "          <a href=\"http://www.immport.org\" inline=\"TRUE\" target=\"_blank\">NIAID ImmPort Database</a>\n",
       "          . Available data include flow cytometry, CyTOF, multiplex ELISA, gene expression, RNA-Seq, Mass Spectrometry, HAI titers,\r",
       " clinical lab tests, HLA type, and others. Click one of the buttons below to view visualizations of all the datasets from that type of study. More information about the website can be found in our\n",
       "          <a href=\"https://www.cell.com/cell-reports/fulltext/S2211-1247(18)31451-7\" inline=\"TRUE\" target=\"_blank\">Cell Reports Publication</a>\n",
       "          .\n",
       "          <a href=\"mailto:BISC_Helpdesk@niaid.nih.gov\" inline=\"TRUE\" target=\"_blank\">Contact us</a>\n",
       "          with queries and bug reports. All code is openly available on\n",
       "          <a href=\"https://github.com/pupster90/10k_Immunomes\" inline=\"TRUE\" target=\"_blank\">Github</a>\n",
       "          and\n",
       "          <a href=\"https://hub.docker.com/r/pupster90/io\" inline=\"TRUE\" target=\"_blank\">Docker</a>\n",
       "        </small>\n",
       "      </p>\n",
       "    </div>\n",
       "  </div>\n",
       "</div>\n",
       "\t</body>\n",
       "</html>\n"
      ],
      "text/plain": [
       "Shiny tags cannot be represented in plain text (need html)"
      ]
     },
     "execution_count": 4113,
     "metadata": {},
     "output_type": "execute_result"
    }
   ],
   "source": [
    "tempHtml = conditionalPanel(title = \"homeAbout\", condition = \"input.page == 'home'\",\n",
    "                                           \n",
    "        div( class=\"row\", style=\"background-color: rgb(217,234,248,.5)\", div( class=\"col-xs-12 col col-md-10 col-md-offset-1\",                                \n",
    "            img(src='www/Banner.jpeg', class=\"img-responsive\")\n",
    "        )),\n",
    "        div( class=\"row\", div( class=\"jumbotron img-responsive\",  style=\"padding: .9em; background-color: rgb(250,250,250)\",    #rgb(225, 243, 252)\n",
    "            #p(\" In scientific experiments it’s important to compare experimental results against a control dataset. However, sometimes it’s not possible for a lab to easily obtain data from healthy control subjects. This is especially true in immunology, the study of the immune system, where scientists may run multiple costly tests. We built 10k immunomes so that anyone can get high quality data from healthy subjects using any of the latest scientific methods. In minutes, you will have a graph ready for your paper!\"),\n",
    "            p(\"In science it’s important to compare experimental results against a control dataset. However, sometimes it’s not possible obtain data from healthy control subjects. This is especially true when studying the immune system, where scientists run multiple costly tests. 10k immunomes allows anyone to obtain high quality data and create graphics using the latest scientific methods.\"),\n",
    "            p(tags$small( strong('What is 10k Immunomes?'),\n",
    "               'The 10,000 Immunomes Project is a reference dataset for human immunology, \\r derived from over 10,000 control subjects in the', \n",
    "                a(href=\"http://www.immport.org\", \"NIAID ImmPort Database\",inline = T, target = \"_blank\"), \n",
    "                '. Available data include flow cytometry, CyTOF, multiplex ELISA, gene expression, RNA-Seq, Mass Spectrometry, HAI titers,\\r clinical lab tests, HLA type, and others. Click one of the buttons below to view visualizations of all the datasets from that type of study. More information about the website can be found in our', \n",
    "                a(href = 'https://www.cell.com/cell-reports/fulltext/S2211-1247(18)31451-7', 'Cell Reports Publication',inline = T, target = \"_blank\"),'.', \n",
    "                a(href = 'mailto:BISC_Helpdesk@niaid.nih.gov', 'Contact us', inline = T, target = \"_blank\"), \n",
    "                'with queries and bug reports. All code is openly available on',\n",
    "                 a(href = 'https://github.com/pupster90/10k_Immunomes', 'Github', inline = T, target = \"_blank\"), \"and\",\n",
    "                 a(href = 'https://hub.docker.com/r/pupster90/io', 'Docker', inline = T, target = \"_blank\") ) #'~Last updated 7/25/2019.'\n",
    "          )\n",
    "       ))\n",
    " )\n",
    "\n",
    "ui = tagAppendChild(ui, tempHtml )\n",
    "tempHtml\n"
   ]
  },
  {
   "cell_type": "markdown",
   "metadata": {},
   "source": [
    "## <font color=\"orange\">Graph Pages"
   ]
  },
  {
   "cell_type": "markdown",
   "metadata": {},
   "source": [
    "I put all of the pages with graphs inside of one R shiny template. Which then changes depending on what button the user clicks."
   ]
  },
  {
   "cell_type": "markdown",
   "metadata": {},
   "source": [
    "First we make the title page template"
   ]
  },
  {
   "cell_type": "code",
   "execution_count": 4114,
   "metadata": {},
   "outputs": [],
   "source": [
    "tempHtml= conditionalPanel(title = \"graph_page_title\", condition = \"input.page != 'home'\",\n",
    "                              \n",
    "  div( class=\"row\",  div( class=\"jumbotron\", style=\"padding: .9em; background-size: cover \",\n",
    "       div( style=\"display: flex;justify-content: center; position: relative; \",\n",
    "           h1(\"Graph title text\" , style=\"text-align: center;\", id = \"graph_page_header\"),\n",
    "           actionButton(\"homeBtn\", icon = icon(\"home\"), label=\"\", class=\"btn btn-link\", style=\"  outline: none; padding: 15px; border: 0px; background-color: transparent; font-size: 260%;    \") \n",
    "       ), \n",
    "       p( tags$small( id=\"graph_page_text\" , \"Graph title text\" , style=\"text-align:center;\"))\n",
    "  ))\n",
    ")\n",
    "\n",
    "ui = tagAppendChild( ui , tempHtml )\n",
    "#tempHtml\n"
   ]
  },
  {
   "cell_type": "markdown",
   "metadata": {},
   "source": [
    "Then we add the code that changes the title page based on which button was clicked."
   ]
  },
  {
   "cell_type": "code",
   "execution_count": 4115,
   "metadata": {
    "code_folding": []
   },
   "outputs": [],
   "source": [
    "\n",
    "temp = quote({\n",
    "  observeEvent( input$page , {\n",
    "      \n",
    "      if( input$page == 'transcriptomics' ){\n",
    "          html(id=\"graph_page_header\", html= \"Transcriptomics\" ) \n",
    "          html(id=\"graph_page_text\", html= \"Transcriptomics studies gene expression through the analysis of RNA molecules. The amount of RNA molecules recorded for a gene is used to determine the level of expression. This section contains data collected from bulk RNAseq and Microarrays. Until recently Microarrays were the primary method for analyzing gene expression. RNAseq is a newer technique that provides a wider dynamic range and higher sensitivity, but at a higher cost.\" ) \n",
    "      }\n",
    "      if( input$page == 'proteomics' ){\n",
    "          html(id=\"graph_page_header\", html= \"Proteomics\" ) \n",
    "          html(id=\"graph_page_text\", html= \"Proteomics is the study of proteins. Proteins are molecular machines that execute the functions of a cell. This section contains CyTOF, flow cytometry, and mass spectrometry data. Flow cytometry is a popular laser-based technology to identify cells. The CyTOF and flow cytometry data contain information on relative abundance of cell phenotypes. Mass spectrometry identifies molecules  through their mass-to-charge ratio, which is measured by analyzing the ‘time-of-flight’ of charged particles. Mass spectrometry data provides scientists with an in depth look at an individual’s metabolome at the time of the sample.\" )   \n",
    "      }\n",
    "      if( input$page == 'immunoassays' ){\n",
    "          html(id=\"graph_page_header\", html= \"Immunoassays\" ) \n",
    "          html(id=\"graph_page_text\", html= \"Immunoassays are a useful tool for obtaining precise measurements on the concentration of molecules, bacteria, and viruses inside of a sample.  This technique relies on the strong bonding affinity between an antibody and it’s corresponding antigen. Specific antibodies are chosen to ‘grab’ the particle of interest. Immunoassays can also be used to measure the relative effectiveness of an antibody on a specific virus of interest. We provide immunoassays from ELISA, Multiplex ELISA, HAI Titer, and Virus Neutralization studies.\" )    \n",
    "      }\n",
    "      if( input$page == 'lab' ){\n",
    "          html(id=\"graph_page_header\", html= \"Lab Tests\" ) \n",
    "          html(id=\"graph_page_text\", html= \"Lab tests give important information about the current status of a person's metabolism including the health of essential organs, electrolyte and acid/base balance as well as levels of blood glucose and blood proteins. We provide a diverse set of lab tests on blood count, a metabolic panel, and a lipid profile. Blood Count specifies the various amounts of different cell types in the blood. Lipid profiles measure the amount of different types of lipids like cholesterol or triglycerides. Metabolic panels measure the amount to glucose and the electrolyte balance in blood.\")\n",
    "      }\n",
    "  })\n",
    "})\n",
    "body(server) = callConcat( body(server), temp )\n",
    "\n",
    "      #if( input$page == 'rna' ){\n",
    "      #    html(id=\"graph_page_header\", html= \"RNA-Seq\" ) \n",
    "      #    html(id=\"graph_page_text\", html= \"Flow cytometry is a popular laser-based technology to analyze cells or particles. It detects and measures physical and chemical characteristics of a population of cells.  In this immunophenotyping technique suspensions of living cells are stained with specific, fluorescently labeled antibodies and then analyzed with a flow cytometer. In the flow cytometer a laser beam is focused on the cell and the light scattered from it is analyzed.\" )     \n",
    "      #}\n",
    "      #if( input$page == 'cytometry' ){\n",
    "      #    html(id=\"graph_page_header\", html= \"Cytometry\" ) \n",
    "      #    html(id=\"graph_page_text\", html= \"Proteomics is the study of proteins. Proteins are molecular machines that execute the functions of a cell. This section contains flow CyTOF, flow cytometry, and mass spectrometry data. The CyTOF and flow cytometry data provides information on relative abundance of cell phenotypes.  The mass spectrometry data provides scientists with an in depth look at an individual’s metabolome at the time of the sample.\" )   \n",
    "      #}"
   ]
  },
  {
   "cell_type": "markdown",
   "metadata": {},
   "source": [
    "# <font color=\"SkyBlue\">Buttons</font>"
   ]
  },
  {
   "cell_type": "markdown",
   "metadata": {},
   "source": [
    "This code creates the <font color=\"SkyBlue\">Buttons</font> used to switch between webpages."
   ]
  },
  {
   "cell_type": "markdown",
   "metadata": {},
   "source": [
    "Add <font color=\"SkyBlue\">Buttons</font> to <font color=\"green\">user interface</font>"
   ]
  },
  {
   "cell_type": "code",
   "execution_count": 4116,
   "metadata": {},
   "outputs": [],
   "source": [
    "tempHtml= div(\n",
    "    column(3, actionButton(\"transcriptomicsBtn\", icon = icon(\"dna\"), label=\"Transcriptomics\", class=\"btn btn-success btn-lg text-center\", style=\"width: 100%\"), style=\"padding: 2px; \"),\n",
    "    column(3, actionButton(\"proteomicsBtn\", icon = icon(\"microscope\"), label=\"Proteomics\", class=\"btn-primary btn-lg text-center\",style=\"width: 100%\"), style=\"padding: 2px;\"),\n",
    "    column(3, actionButton(\"immunoassaysBtn\", icon = icon(\"yahoo\"), label=\"Immunoassays\", class=\"btn btn-warning btn-lg text-center\", style=\"width: 100%\"), style=\"padding: 2px;\"),\n",
    "    column(3, actionButton(\"labBtn\", icon = icon(\"vial\"), label=\"Lab Tests\", class=\"btn btn-danger btn-lg text-center\", style=\"width: 100%\"),  style=\"padding: 2px; \"),\n",
    "    p(\".\", style=\"color:white;\"),\n",
    "    HTML(\"<hr>\")\n",
    ")\n",
    "\n",
    "ui = tagAppendChild(ui, tempHtml )\n",
    "#tempHtml\n"
   ]
  },
  {
   "cell_type": "markdown",
   "metadata": {},
   "source": [
    "Add functions for <font color=\"skyblue\">button clicks</font> to the <font color=\"purple\">server</font>"
   ]
  },
  {
   "cell_type": "code",
   "execution_count": 4117,
   "metadata": {
    "code_folding": []
   },
   "outputs": [],
   "source": [
    "temp = quote({\n",
    "  observeEvent(input$homeBtn, {\n",
    "    updateSelectInput(session, \"page\", selected = 'home')\n",
    "  })\n",
    "  observeEvent(input$transcriptomicsBtn, {\n",
    "    updateSelectInput(session, \"page\", selected = 'transcriptomics')\n",
    "    updateSelectInput(session, \"dataType\", selected = 'Microarray: PBMC', choices = c('Microarray: PBMC','Microarray: Whole Blood','RNAseq: T cells','RNAseq: Whole Blood', 'RNAseq: PBMC'))#, 'Cibersort: Whole Blood'))\n",
    "    #updateSelectInput(session, \"dataType\", selected = 'Gene Expression: PBMC', choices = c('Gene Expression: PBMC','Gene Expression: Whole Blood'))   \n",
    "  })\n",
    "  observeEvent(input$proteomicsBtn, {\n",
    "    updateSelectInput(session, \"page\", selected = 'proteomics')\n",
    "    #updateSelectInput(session, \"dataType\", selected = 'Mass-Spec: Newborns', choices = c('CyTOF: PBMC','Flow Cytometry: Whole Blood', 'Flow Cytometry: PBMC','Mass-Spec: Newborns'))\n",
    "    updateSelectInput(session, \"dataType\", selected = 'CyTOF: PBMC', choices = c('CyTOF: PBMC','Flow Cytometry: Whole Blood', 'Flow Cytometry: PBMC','Mass Spectrometry: Newborns'))  \n",
    "  })\n",
    "  observeEvent(input$immunoassaysBtn, {\n",
    "    updateSelectInput(session, \"page\", selected = 'immunoassays')\n",
    "    updateSelectInput(session, \"dataType\", selected = 'HAI Titer', choices = c('HAI Titer','ELISA', 'Multiplex ELISA', 'Virus Neutralization Titer'))\n",
    "  })   \n",
    "  observeEvent(input$labBtn, {\n",
    "    updateSelectInput(session, \"page\", selected = 'lab')\n",
    "    updateSelectInput(session, \"dataType\", selected = 'Blood Count', choices = c('Blood Count','Metabolic Panel','Lipid Profile'))\n",
    "  })\n",
    "})\n",
    "body(server) = callConcat( body(server), temp )\n",
    "\n",
    "  #observeEvent(input$cytometryBtn, {\n",
    "  #  updateSelectInput(session, \"page\", selected = 'cytometry')\n",
    "  #  #updateSelectInput(session, \"dataType\", selected = 'CyTOF: PBMC', choices = c('CyTOF: PBMC','Flow Cytometry: Whole Blood', 'Flow Cytometry: PBMC'))  \n",
    "  #  updateSelectInput(session, \"dataType\", selected = 'CyTOF: PBMC', choices = c('RNAseq: T cells','RNAseq: Newborns'))\n",
    "  #})"
   ]
  },
  {
   "cell_type": "markdown",
   "metadata": {},
   "source": [
    "# <font color=\"peru\">Body</font>"
   ]
  },
  {
   "cell_type": "markdown",
   "metadata": {},
   "source": [
    "This code displays everything on the website that is below the <font color=\"SkyBlue\">Buttons</font>. To get a better idea of what it does  uncomment the `tempHtml` line at the end of the  <font color=\"peru\">Body Home</font> section"
   ]
  },
  {
   "cell_type": "markdown",
   "metadata": {},
   "source": [
    "##  <font color=\"peru\">Body Home</font>"
   ]
  },
  {
   "cell_type": "markdown",
   "metadata": {},
   "source": [
    "This is the information that is displayed underneath the buttons on the home page."
   ]
  },
  {
   "cell_type": "code",
   "execution_count": 4118,
   "metadata": {},
   "outputs": [],
   "source": [
    "tempHtml= conditionalPanel(title = \"homeMain\", condition = \"input.page == 'home'\",\n",
    "   div(class=\"jumbotron\", style=\"background-color: white; padding: .9em\",\n",
    "\n",
    "        #column(12, column(7,tags$u( h2(\"Made with ImmPort\", class=\"text-center\")  ))),\n",
    "        column( 7, a(href=\"http://www.immport.org\", img(src='www/Figure_1.png', class=\"img-responsive\"), inline = T, target = \"_blank\")  ),\n",
    "        column( 5, \n",
    "                p(tags$small(\"Data from 242 studies and 44,775 subjects was collected from the NIAID Immunology Data and Analysis Portal,\",a(href=\"http://www.immport.org\", \"ImmPort\", inline = T, target = \"_blank\"),\". It includes flow cytometry, CyTOF, mRNA expression, secreted protein levels, clinical lab tests, HAI titers, HLA type, and others. We hand curated the entire contents of ImmPort to filter for normal healthy human control subjects. Each of the data types were systematically processed and harmonized. This data constitutes the largest compendium to date of cellular and molecular immune measurements on healthy normal human subjects.\"))\n",
    "              ),\n",
    "       p(\".\", style=\"color:white; padding:0; margin:0; font-size:50%;\"), # makes a vertical space,\n",
    "       HTML(\"<hr>\"),\n",
    "       \n",
    "       column( 5,\n",
    "              tags$u( h2(\"10,000 Subjects\")  ),\n",
    "              p(tags$small(\"Below is a table displaying the number of subjects in each dataset. Counts of distinct subjects for whom raw data of each type is represented in the initial release of the 10KIP. Because many subjects contributed multiple measurement types, the totals across all measurement types substantially exceed the number of distinct subjects.\"))\n",
    "            ),\n",
    "       column( 5,\n",
    "              a(href=\"http://www.immport.org\", img(src='www/Table_1.jpg', class=\"img-responsive\"), inline = T, target = \"_blank\")\n",
    "            ),\n",
    "      # Youtube Video\n",
    "       div( class=\"col-xs-12 col-sm-7 col-md-6\", style=\"padding-top: 5px;\", \n",
    "         div( class=\"embed-responsive embed-responsive-16by9\",\n",
    "              HTML('<iframe width=\"200\" height=\"100\" src=\"https://www.youtube.com/embed/pwBs4J4xDOw\" class=\"embed-responsive-item\"></iframe>')\n",
    "             )\n",
    "          ),\n",
    "        # Links for external sites and Datasets\n",
    "        div( class=\"col-xs-12 col-sm-12 col-md-6 text-center\",\n",
    "                p(\".\", style=\"color:white\"), # makes a vertical space\n",
    "                h3(\"Learn More\"), \n",
    "                p( #tags$small(\n",
    "                  a(href = 'http://www.immport.org/immport-open/public/home/home', 'ImmPort Homepage'), br(),\n",
    "                  a(href = 'https://www.cell.com/cell-reports/fulltext/S2211-1247(18)31451-7', '10,000 Immunomes Paper', target = \"_blank\"), br(),\n",
    "                  a(href = 'https://www.cell.com/cell-reports/fulltext/S2211-1247(18)31080-5', 'MetaCyto Cytometry Analysis Paper', target = \"_blank\"), br(),\n",
    "                  a(href = 'https://bioconductor.org/packages/release/bioc/html/MetaCyto.html', 'MetaCyto Cytometry Analysis Code', target = \"_blank\"), br(),\n",
    "                  a(href = 'https://www.bu.edu/jlab/wp-assets/ComBat/Abstract.html', 'ComBat Batch Correction Algorithm', target = \"_blank\"), br(),\n",
    "                  a(href = 'https://storage.googleapis.com/bakar-data/10k/data_raw/Questionnaire.zip', '10k Questionnaire Dataset', target = \"_blank\"), br(),\n",
    "                  a(href = 'https://storage.googleapis.com/bakar-data/10k/data_raw/hla.csv', '10k HLA Dataset', target = \"_blank\"), br(),  \n",
    "                  a(href = 'mailto:BISC_Helpdesk@niaid.nih.gov','Contact Us', target = \"_blank\")\n",
    "              ) #)\n",
    "        )\n",
    " \n",
    "\n",
    "\n",
    "\n",
    "    ),\n",
    "    div(                        \n",
    "      column(12,\n",
    "        tags$hr(),tags$hr(),     \n",
    "        h3('Cite 10k Immunomes'),\n",
    "        p(\"Zalocusky KA, Kan MJ, Hu Z, Dunn P, Thomson E, Wiser J, Bhattacharya S, Butte AJ. The 10,000 Immunomes Project: Building a Resource for Human Immunology. Cell reports. 2019 Oct 9;25(2):513-22. PMID:30304689\"  )\n",
    "        ),\n",
    "      column(12,\n",
    "        h3('REFERENCES'),\n",
    "        p('1) Hu Z, Jujjavarapu C, Hughey JJ, Andorf S, Lee H, Gherardini PF, Spitzer MH, et al. Meta-analysis of Cytometry Data Reveals Racial Differences in Immune Cells. Cell Reports. 2018 Jul 31;24(5):1377-88. ' ),\n",
    "        p('2) Finak G, Langweiler M, Jaimes M, Malek M, Taghiyar J, Korin Y, et al. Standardizing Flow Cytometry Immunophenotyping Analysis from the Human ImmunoPhenotyping Consortium. Scientific Reports. 2016 Aug 10;6(1):20686.' ),\n",
    "        p('3) Johnson WE, Li C, Rabinovic A. Adjusting batch effects in microarray expression data using empirical Bayes methods. Biostat. 2007 Jan 1;8(1):118–27. ' ),\n",
    "        p('4) Irizarry RA, Hobbs B, Collin F, Beazer‐Barclay YD, Antonellis KJ, Scherf U, et al. Exploration, normalization, and summaries of high density oligonucleotide array probe level data. Biostatistics. 2003 Apr 1;4(2):249–64. ' ),\n",
    "        p('5) Zalocusky KA, Kan MJ, Hu Z, Dunn P, Thomson E, Wiser J, Bhattacharya S, Butte AJ. The 10,000 Immunomes Project: Building a Resource for Human Immunology. Cell reports. 2018 Oct 9;25(2):513-22. PMID:30304689' ),\n",
    "        p('6) Lee AH, Shannon CP, Amenyogbe N, Bennike TB, Diray-Arce J, Idoko OT, et al. Dynamic molecular changes during the first week of human life follow a robust developmental trajectory. Nature Communications. 2018 March 12;10:1092.' )\n",
    "        ),\n",
    "      p(\".\", style=\"color:white\") # makes a vertical space\n",
    "   ) #<- end jumbotron\n",
    ") #<-- end conidtional panel\n",
    "ui = tagAppendChild(ui, tempHtml )\n",
    "#tempHtml\n"
   ]
  },
  {
   "cell_type": "markdown",
   "metadata": {},
   "source": [
    "## <font color=\"peru\">Body Graph</font>"
   ]
  },
  {
   "cell_type": "markdown",
   "metadata": {},
   "source": [
    "The code below crete the <font color=\"peru\">Page Body</font>. The is broken up into to basic sections, the **sidebar** and the **main panel**.\n",
    "* **sidebar:** This is where all the widgets are that control what is graphed\n",
    "* **main panel:** This small piece of code displays the graph"
   ]
  },
  {
   "cell_type": "markdown",
   "metadata": {},
   "source": [
    "### <font color=\"peru\">Sidebar"
   ]
  },
  {
   "cell_type": "markdown",
   "metadata": {},
   "source": [
    "<font color=\"red\">This code is ugly and too long. Later I should try shortening this code by consolidating similar elements in the sidebar."
   ]
  },
  {
   "cell_type": "code",
   "execution_count": 4119,
   "metadata": {},
   "outputs": [],
   "source": [
    "sidebar = sidebarPanel(  #div( class=\"col-sm-4\", \n",
    "        \n",
    "        #Select which data type to visualize\n",
    "        h4('Select Data Type:'),\n",
    "        selectInput('dataType', label = NULL,\n",
    "                    choices = c('CyTOF: PBMC','ELISA',\n",
    "                                'Flow Cytometry: Whole Blood', 'Flow Cytometry: PBMC',\n",
    "                                'Microarray: PBMC','Microarray: Whole Blood',\n",
    "                                'HAI Titer', \n",
    "                                'Blood Count','Metabolic Panel',\n",
    "                                'Lipid Profile','Multiplex ELISA', 'Virus Neutralization Titer',\n",
    "                                'RNAseq: T cells', 'RNAseq: Whole Blood', 'RNAseq: PBMC', 'Mass Spectrometry: Newborns'), #'Cibersort: Whole Blood'),\n",
    "                    selected = 'CyTOF: PBMC'\n",
    "        ),\n",
    "        \n",
    "        ##Conditional panels for analyte selection\n",
    "        #Which drop-down menu appears will depend on the data type the user selects.\n",
    "        \n",
    "        # Analyte Selection Box\n",
    "        conditionalPanel(condition = \"input.dataType == 'Mass Spectrometry: Newborns' \", \n",
    "                         h4('Enter Analyte Name'),\n",
    "                         selectizeInput( 'mass_spec_analyte', label= NULL, choices= NULL,\n",
    "                                          selected='cholesterol', options= list(maxOptions=10) )\n",
    "        ),     \n",
    "        conditionalPanel(condition = \"input.dataType == 'CyTOF: PBMC'\",\n",
    "                         h4('Select Analyte:'),\n",
    "                         selectInput('cytof_pbmc_analyte', label = NULL, #style=\"padding-bottom: 0px; margin-bottom: 0px;\",\n",
    "                                     choices = cytof_pbmc_analytes,\n",
    "                                     selected = 'T_cells')\n",
    "        ),\n",
    "        conditionalPanel(condition = \"input.dataType == 'ELISA'\",\n",
    "                         h4('Select Analyte:'),\n",
    "                         selectInput('elisa_analyte', label = NULL,\n",
    "                                     choices = elisaAnalytes,\n",
    "                                     selected = 'CXCL10')\n",
    "        ),\n",
    "        conditionalPanel(condition = \"input.dataType == 'Flow Cytometry: PBMC'\",\n",
    "                         h4('Select Analyte:'),\n",
    "                         selectInput('flow_pbmc_analyte', label = NULL,\n",
    "                                     choices =  flow_pbmc_analytes,\n",
    "                                     selected = 'T_cells')\n",
    "        ), \n",
    "    \n",
    "    \n",
    "        # Cytometry: Additional Analyte Information\n",
    "        conditionalPanel(condition = \"input.dataType == 'CyTOF: PBMC'\",\n",
    "                    textOutput(\"cytof_label\"), HTML(\"<hr>\")\n",
    "        ),\n",
    "    \n",
    "        # Normalization Box\n",
    "        conditionalPanel( condition = \"['CyTOF: PBMC','ELISA','Flow Cytometry: PBMC','Microarray: PBMC','Microarray: Whole Blood','HAI Titer','Multiplex ELISA','Blood Count','Virus Neutralization Titer'].indexOf(input.dataType) >= 0\",\n",
    "            fluidRow(\n",
    "                column( 6, checkboxInput('processing', label = 'Normalized',  value = T)  ),\n",
    "                column( 6, checkboxInput('outliers', label = 'Outliers',  value = T)  )\n",
    "            )\n",
    "        ),\n",
    "        # Outliers Box\n",
    "        #conditionalPanel( condition = \"['CyTOF: PBMC','ELISA','Flow Cytometry: PBMC','Microarray: PBMC','Microarray: Whole Blood','HAI Titer','Multiplex ELISA','Blood Count','Virus Neutralization Titer'].indexOf(input.dataType) >= 0\",\n",
    "        #                  checkboxInput('processing', label = 'Normalized',  value = T)\n",
    "        #),\n",
    "    \n",
    "    \n",
    "    \n",
    "        # Analyte Selections\n",
    "        conditionalPanel(condition = \"input.dataType == 'Flow Cytometry: Whole Blood'\",\n",
    "                         h4('Select Analyte:'),\n",
    "                         selectInput('flow_blood_analyte', label = NULL,\n",
    "                                     choices = flow_blood_analytes,\n",
    "                                     selected = 'T_cells')\n",
    "        ),\n",
    "        conditionalPanel(condition = \"input.dataType == 'Microarray: PBMC'\",\n",
    "                         h4('Enter HUGO Gene Symbol:'),\n",
    "                         selectizeInput( 'gene_pbmc_analyte', label= NULL, choices= NULL,\n",
    "                                          selected='CD9', options= list(maxOptions=10) )\n",
    "                         #textInput('gene_pbmc_analyte', label = NULL,\n",
    "                         #          value = 'CD9')\n",
    "                         \n",
    "        ),\n",
    "        conditionalPanel(condition = \"input.dataType == 'Microarray: Whole Blood'\",\n",
    "                         h4('Enter HUGO Gene Symbol:'),\n",
    "                         selectizeInput( 'gene_blood_analyte', label= NULL, choices= NULL,\n",
    "                                          selected='CD9', options= list(maxOptions=10) )\n",
    "                         #textInput('gene_blood_analyte', label = NULL,\n",
    "                         #          value = 'CD9')\n",
    "        ),\n",
    "        conditionalPanel(condition = \"input.dataType == 'HAI Titer'\",\n",
    "                         h4('Select Analyte:'),\n",
    "                         selectInput('hai_analyte', label = NULL,\n",
    "                                     choices = haiAnalytes,\n",
    "                                     selected = haiAnalytes[1])\n",
    "        ),\n",
    "        conditionalPanel(condition = \"input.dataType == 'Multiplex ELISA'\",\n",
    "                         h4('Select Analyte:'),\n",
    "                         selectInput('mbaaAnalyte', label = NULL,\n",
    "                                     choices = mbaaAnalytes,\n",
    "                                     selected = 'CXCL5')\n",
    "        ),\n",
    "        conditionalPanel(condition = \"input.dataType == 'Blood Count'\",\n",
    "                         h4('Select Analyte:'),\n",
    "                         selectInput('cbcAnalyte', label = NULL,\n",
    "                                     choices = cbcAnalytes,\n",
    "                                     selected = 'HGB_g_per_dL')\n",
    "        ),\n",
    "        conditionalPanel(condition = \"input.dataType == 'Lipid Profile'\",\n",
    "                         h4('Select Analyte:'),\n",
    "                         selectInput('flpAnalyte', label = NULL,\n",
    "                                     choices = flpAnalytes,\n",
    "                                     selected = flpAnalytes[1])\n",
    "        ),\n",
    "        conditionalPanel(condition = \"input.dataType == 'Metabolic Panel'\",\n",
    "                         h4('Select Analyte:'),\n",
    "                         selectInput('cmpAnalyte', label = NULL,\n",
    "                                     choices = cmpAnalytes,\n",
    "                                     selected = cmpAnalytes[1])\n",
    "        ),\n",
    "        conditionalPanel(condition = \"input.dataType == 'Virus Neutralization Titer'\",\n",
    "                         h4('Select Analyte:'),\n",
    "                         selectInput('vntAnalyte', label = NULL,\n",
    "                                     choices = vntAnalytes,\n",
    "                                     selected = 'Measles_Edmonston')\n",
    "        ),\n",
    "        conditionalPanel(condition = \"input.dataType == 'RNAseq: T cells' \", \n",
    "                         h4('Enter HUGO Gene Symbol:'),\n",
    "                         selectizeInput( 'T_cell_analyte', label= NULL, choices= NULL,\n",
    "                                          selected='CD9', options= list(maxOptions=10) )\n",
    "                         #textInput('T_cell_analyte', label = NULL,\n",
    "                         #          value = 'CD9')\n",
    "        ),\n",
    "        conditionalPanel(condition = \"input.dataType == 'RNAseq: Whole Blood' \", \n",
    "                         h4('Enter HUGO Gene Symbol:'),\n",
    "                         selectizeInput( 'RNAseq_newborns', label= NULL, choices= NULL,\n",
    "                                          selected='CD9', options= list(maxOptions=10) )\n",
    "                         #textInput('T_cell_analyte', label = NULL,\n",
    "                         #          value = 'CD9')\n",
    "        ),\n",
    "        conditionalPanel(condition = \"input.dataType == 'RNAseq: PBMC' \", \n",
    "                         h4('Enter HUGO Gene Symbol:'),\n",
    "                         selectizeInput( 'RNAseq_pbmc', label= NULL, choices= NULL,\n",
    "                                          selected='CD4', options= list(maxOptions=10) )\n",
    "                         #textInput('T_cell_analyte', label = NULL,\n",
    "                         #          value = 'CD9')\n",
    "        ),\n",
    "        conditionalPanel( condition = \"input.dataType == 'Mass Spectrometry: Newborns' || input.dataType == 'RNAseq: Whole Blood' || input.dataType == 'RNAseq: PBMC'\", #|| input.dataType == 'Cibersort: Whole Blood' \",\n",
    "             h4('Plot By:'),\n",
    "             radioButtons( 'newbornPlotBy', label = NULL,\n",
    "                          #choices = c('Days of Life','Sex','Vaccination'),\n",
    "                          choices = c('Age','Sex'), # we removed vaccination, since we are now only plotting 'delayed vaccine' group\n",
    "                          selected = 'Age'\n",
    "             ) \n",
    "        ),\n",
    "        \n",
    "        #Select age range of subjects\n",
    "        conditionalPanel(condition = \"input.dataType != 'RNAseq: T cells' && input.dataType != 'RNAseq: Whole Blood' && input.dataType != 'RNAseq: PBMC' && input.dataType != 'Mass Spectrometry: Newborns'\", #&& input.dataType != 'Cibersort: Whole Blood'\",\n",
    "                         h4('Age Range:'),\n",
    "                         sliderInput(\"ageRange\",label = NULL,\n",
    "                                     min = 0,\n",
    "                                     max = 100,\n",
    "                                     value = c(0,100),\n",
    "                                     dragRange = TRUE,\n",
    "                                     round = TRUE,\n",
    "                                     step = 1),\n",
    "                         \n",
    "                                                \n",
    "                         \n",
    "                #Select the ethnicities of subjects\n",
    "                 fluidRow(\n",
    "                         column( 8, \n",
    "                             h4('Ethnicities:'),\n",
    "                             checkboxGroupInput('race', label = NULL,\n",
    "                                                choices = c('White', 'Black or African American','Asian','Other'),\n",
    "                                                selected = c('White', 'Black or African American','Asian','Other')\n",
    "                             )\n",
    "                        ),\n",
    "                         #How to color plot\n",
    "                         column( 4 ,\n",
    "                             h4('Plot By:'),\n",
    "                             radioButtons('colorCode', label = NULL,\n",
    "                                          choices = c('Age & Sex','Ethnicity','Study'),\n",
    "                                          selected = 'Age & Sex'\n",
    "                             )                  \n",
    "                         )\n",
    "                     \n",
    "                     ),\n",
    "                         \n",
    "                 fluidRow(   \n",
    "                                                  #Select male or female subjects\n",
    "                         column( 12 ,\n",
    "                             h4('Sex:'),\n",
    "                             checkboxGroupInput(\"gender\", label = NULL, choices = c('Female','Male'), selected = c('Female','Male'), inline=TRUE  )\n",
    "                        )\n",
    "                     )\n",
    "                         \n",
    "\n",
    "        )\n",
    "        \n",
    "      )\n",
    "       "
   ]
  },
  {
   "cell_type": "markdown",
   "metadata": {},
   "source": [
    "To make the app load quickly, we make the *\"selectize inputs\"* in the **<font color=\"orange\">sidebar</font>** run using **<font color=\"purple\">the server</font>**, as [explained here](https://shiny.rstudio.com/articles/selectize.html)"
   ]
  },
  {
   "cell_type": "code",
   "execution_count": 4120,
   "metadata": {},
   "outputs": [],
   "source": [
    "temp= quote({\n",
    "    updateSelectizeInput(session, 'mass_spec_analyte',  choices= colnames(guinea_mass_spec)[-1:-8], server= TRUE)\n",
    "    updateSelectizeInput(session, 'gene_pbmc_analyte',  choices= colnames(gene_pbmc)[-1:-8], server= TRUE)\n",
    "    updateSelectizeInput(session, 'gene_blood_analyte', choices= colnames(gene_blood)[-1:-8], server= TRUE)\n",
    "    updateSelectizeInput(session, 'T_cell_analyte',     choices= colnames(gene_Tcell_raw)[-1:-3], server= TRUE)\n",
    "    updateSelectizeInput(session, 'RNAseq_newborns',    choices= whole_blood_counts$hgnc, server= TRUE)\n",
    "    updateSelectizeInput(session, 'RNAseq_pbmc',        choices= pbmc_counts$hgnc, server= TRUE)\n",
    "    # DEBUG\n",
    "    #updateSelectizeInput(session, 'RNAseq_newborns',    choices= gambia_rna$hgnc, server= TRUE)\n",
    "})\n",
    "body(server) = callConcat( body(server), temp )\n"
   ]
  },
  {
   "cell_type": "markdown",
   "metadata": {},
   "source": [
    "#### <font color=\"gray\">Cleaning Code, Failed</font>"
   ]
  },
  {
   "cell_type": "markdown",
   "metadata": {},
   "source": [
    "```python\n",
    "sidebar = sidebarPanel(\n",
    "        \n",
    "        #Select which data type to visualize\n",
    "        h4('Select Data Type:'),\n",
    "        selectInput('dataType', label = NULL,\n",
    "                    choices = c('CyTOF: PBMC','ELISA',\n",
    "                                'Flow Cytometry: Whole Blood', 'Flow Cytometry: PBMC',\n",
    "                                'Gene Expression: PBMC','Gene Expression: Whole Blood',\n",
    "                                'HAI Titer', \n",
    "                                'Lab Tests: Blood Count','Lab Tests: Metabolic Panel',\n",
    "                                'Lab Tests: Lipid Profile','Multiplex ELISA', 'Virus Neutralization Titer',\n",
    "                                'RNAseq: T cells', 'Newborn RNAseq'),\n",
    "                    selected = 'CyTOF: PBMC'\n",
    "        ),\n",
    "        \n",
    "        \n",
    "        # Select Analyte\n",
    "        conditionalPanel(condition = \"is.element( input.dataType, c('CyTOF: PBMC','ELISA','Flow Cytometry: Whole Blood','Flow Cytometry: PBMC','HAI Titer','Multiplex ELISA','Lab Tests: Blood Count','Lab Tests: Lipid Profile','Lab Tests: Metabolic Panel','Virus Neutralization Titer') )\",\n",
    "                         h4('Select Analyte:'),\n",
    "                         selectInput('analyte', label = NULL, choices = cytof_pbmc_analytes, selected = 'T_cells')\n",
    "        ),\n",
    "        \n",
    "        # Normalized\n",
    "        conditionalPanel(condition = \"is.element( input.dataType, c('CyTOF: PBMC','ELISA','Flow Cytometry: Whole Blood','Flow Cytometry: PBMC','Gene Expression: Whole Blood','HAI Titer','Multiplex ELISA','Lab Tests: Blood Count','Virus Neutralization Titer','Gene Expression: PBMC') )\",\n",
    "                         checkboxInput('processing', label = 'Normalized', value = T)\n",
    "        ),    \n",
    "         \n",
    "        # Hugo Symbol\n",
    "        conditionalPanel(condition = \"input.dataType == 'RNAseq: T cells'\",\n",
    "                         h4('Enter HUGO Gene Symbol:'),\n",
    "                         textInput('HUGO', label = NULL, value = 'CD9')\n",
    "        ),\n",
    "    \n",
    "        #Select age range of subjects\n",
    "        conditionalPanel(condition = \"is.element( input.dataType, c('RNAseq: T cells','Newborn RNAseq') )\",\n",
    "                     h4('Age Range:'),\n",
    "                     sliderInput(\"ageRange\",label = NULL,\n",
    "                                 min = 0,\n",
    "                                 max = 100,\n",
    "                                 value = c(0,100),\n",
    "                                 dragRange = TRUE,\n",
    "                                 round = TRUE,\n",
    "                                 step = 1),\n",
    "                     #Select male or female subjects\n",
    "                     h4('Sex:'),\n",
    "                     checkboxGroupInput(\"gender\", label = NULL,\n",
    "                                        choices = c('Female','Male'), \n",
    "                                        selected = c('Female','Male')),\n",
    "                     #Select the ethnicities of subjects\n",
    "                     h4('Ethnicities:'),\n",
    "                     checkboxGroupInput('race', label = NULL,\n",
    "                                        choices = c('White', 'Black or African American','Asian','Other'),\n",
    "                                        selected = c('White', 'Black or African American','Asian','Other')\n",
    "                     ),\n",
    "                     #How to color plot\n",
    "                     h4('Plot By:'),\n",
    "                     radioButtons('colorCode', label = NULL,\n",
    "                                  choices = c('Age & Sex','Ethnicity','Study'),\n",
    "                                  selected = 'Age & Sex'\n",
    "                     )\n",
    "        )\n",
    "      )\n",
    "```\n",
    "       "
   ]
  },
  {
   "cell_type": "markdown",
   "metadata": {},
   "source": [
    "### <font color=\"gray\">Helper</font> <font color=\"blue\">myDownloadButton</font>"
   ]
  },
  {
   "cell_type": "markdown",
   "metadata": {},
   "source": [
    "I customized R Shiny's download button to make it look nice for the app. The code I used to do this comes [from here](https://stackoverflow.com/questions/49350509/adding-removing-icon-in-downloadbutton-and-fileinput)"
   ]
  },
  {
   "cell_type": "code",
   "execution_count": 4121,
   "metadata": {},
   "outputs": [],
   "source": [
    "myDownloadButton <- function(outputId, label = \"Download\", myIcon=\"download\", class = NULL, ... ){\n",
    "     tags$a(id = outputId, class = paste(\"btn btn-default shiny-download-link\", class),\n",
    "         href = \"\", target = \"_blank\", download = NA, \n",
    "         icon(myIcon) , label, ...)\n",
    "}"
   ]
  },
  {
   "cell_type": "markdown",
   "metadata": {},
   "source": [
    "### <font color=\"peru\">Graph"
   ]
  },
  {
   "cell_type": "markdown",
   "metadata": {},
   "source": [
    "<font color=\"red\">Note:</font> in the future uncomment out `numSubjects` to print number of subjects."
   ]
  },
  {
   "cell_type": "code",
   "execution_count": 4122,
   "metadata": {},
   "outputs": [],
   "source": [
    "main_panel = mainPanel(   #div( class=\"col-sm-8\",\n",
    "        fluidRow( div( class=\"col-md-offset-9  col-xs-offset-8\",  #col-sm-offset-8 col-lg-offset-9 \n",
    "                   tags$b( style=\"font-family: 'Times New Roman'; color: DarkSlateGrey; font-size: 115%\", textOutput(\"num_subjects\",inline = F) ) # \n",
    "                 ) ),\n",
    "        plotlyOutput(\"dataPlot\"),\n",
    "        #tags$div( style = 'width:100; float:right; color:black',tags$b( textOutput(\"num_subjects\",inline = F) ) ),\n",
    "        #tags$div(class = 'container2', style = 'width:100; float:right; color:black',textOutput('nSubsText', inline = F)),\n",
    "        #h6( id='numSubjects', class=\"pull-right\", \"Number of Subjects: \" ),\n",
    "        h2( class=\"col-xs-offset-2 col-md-offset-1\", \"Download\"),\n",
    "        div(\n",
    "            myDownloadButton('downloadPlot', label='Image', myIcon=\"image\", class=\"btn btn-success\"),\n",
    "            myDownloadButton('downloadPlotData', label='Plot Data', myIcon=\"file-download\", class=\"btn btn-warning\"),\n",
    "            tags$button(  id=\"downloadAllData\", class=\"btn\", style=\"padding:0\"#,  #  id='downloadAllData'\n",
    "               #HTML(\"<a  href='https://storage.googleapis.com/bakar-data/10k/png_metabolomics.725331.csv' download ><button class='btn btn-danger'><i class='fa fa-cart-arrow-down'></i> All Data</button></a>\")\n",
    "            )\n",
    "            #myDownloadButton('downloadAllData', label='All Data', myIcon=\"cart-arrow-down\", class=\"btn btn-danger\")\n",
    "        ),\n",
    "        p( style = 'color: DarkGrey; padding: 0px;', \"* All Data is dataset's raw and formatted files\")\n",
    "        #h6( id='numSubjects', class=\"pull-right\", \"Number of Subjects: \" ),\n",
    "        #textOutput(\"num_subjects\")\n",
    "      )\n",
    "\n"
   ]
  },
  {
   "cell_type": "markdown",
   "metadata": {},
   "source": [
    "Putting Graph and SideBar together"
   ]
  },
  {
   "cell_type": "code",
   "execution_count": 4123,
   "metadata": {},
   "outputs": [],
   "source": [
    "tempHtml  = conditionalPanel( title=\"graphMain\", condition = \"input.page != 'home'\",             \n",
    "    sidebarLayout( sidebar, main_panel )             \n",
    ")    \n",
    "ui = tagAppendChild(ui, tempHtml )\n",
    "#tempHtml"
   ]
  },
  {
   "cell_type": "markdown",
   "metadata": {},
   "source": [
    "### <font color=\"peru\">Data Explanations"
   ]
  },
  {
   "cell_type": "markdown",
   "metadata": {},
   "source": [
    "Template for Data explanation text"
   ]
  },
  {
   "cell_type": "code",
   "execution_count": 4124,
   "metadata": {},
   "outputs": [],
   "source": [
    "tempHtml = conditionalPanel( title=\"info_text\", condition = \"input.page != 'home'\",   \n",
    "    div( class=\"jumbotron\", style=\"background-color: white; padding: .9em;\",  # padding-left: .9em; padding-top: 0px;\",\n",
    "         p( id=\"graph_data_info\" , '..........' )\n",
    "   )                        \n",
    ")\n",
    "ui = tagAppendChild(ui, tempHtml )\n"
   ]
  },
  {
   "cell_type": "markdown",
   "metadata": {},
   "source": [
    "Code that switches what template says based on selected dataset"
   ]
  },
  {
   "cell_type": "code",
   "execution_count": 4125,
   "metadata": {},
   "outputs": [],
   "source": [
    "temp = quote({\n",
    "  observeEvent( input$dataType , {\n",
    "      \n",
    "      if( input$dataType == 'CyTOF: PBMC' ){\n",
    "          html(id=\"graph_data_info\", html= \"<b>CYTOF Data: </b><small>CyTOF data of healthy human blood samples were downloaded from ImmPort web portal. Every .fcs file was pared down to 5000 events. These .fcs files constitute the “raw” CyTOF:PBMC data. All data were arcsinh transformed. For CyTOF data, the formula f(x) = arcsinh (x/8) was used. Transformation and compensation were done using the preprocessing.batch function in MetaCyto (1). The cell definitions from the Human ImmunoPhenotyping Consortium (2) were used to identify 24 types of immune cells using the searchClster.batch function in MetaCyto. Specifically, each marker in each cytometry panels was bisected into positive and negative regions. Cells fulfilling the cell definitions are identified. For example, the CD14+ CD33+ CD16- (CD16- monocytes) cell subset corresponds to the cells that fall into the CD14+ region, CD33+ region and CD16- region concurrently. The proportion of each cell subsets in the PBMC were then calculated by dividing the number of cells in a subset by the total number of cells in the blood. These steps together produce the “formatted” CyTOF: PBMC data. These data were then batch-corrected with an established empirical Bayes method (3), using study accession for batch and age, sex, and race as known covariates to produce the “formatted and normalized” CyTOF: PBMC data. </small>\" ) \n",
    "      \n",
    "      }else if( input$dataType == 'ELISA' ){\n",
    "          html(id=\"graph_data_info\", html= \"<b>ELISA Data: </b><small>Parsed ELISA data were downloaded from ImmPort. Analyte names were standardized to HUGO gene names where appropriate, and measurements were standardized to a common unit of measurement (pg/mL). These steps produced the “formatted” ELISA data. Because ELISA data is low-throughput, and most subjects only have measurements for one analyte, batch correction was conducted with a simple linear model for each analyte, mean correcting by study accession while accounting for age, sex, and race. These steps produced the “formatted and normalized” ELISA data.</small>\" ) \n",
    "      \n",
    "      }else if( input$dataType %in% c('Flow Cytometry: Whole Blood','Flow Cytometry: PBMC')  ){\n",
    "          html(id=\"graph_data_info\", html= \"<b>Cytometry Data: </b><small>Meta-analysis of Cytometry data is conducted using the MetaCyto package (1). Briefly, flow cytometry data were downloaded from ImmPort web portal. Every .fcs file was pared down to 5000 events. These .fcs files constitute the “raw” Flow Cytometry:PBMC data. Flow cytometry data from ImmPort were compensated for fluorescence spillovers using the compensation matrix supplied in each fcs file.  All data from ImmPort were arcsinh transformed. For flow cytometry data, the formula f(x) = arcsinh (x/150) was used. Transformation and compensation were done using the preprocessing.batch function in MetaCyto (1). The cell definitions from the Human ImmunoPhenotyping Consortium (2) were used to identify 24 types of immune cells using the searchClster.batch function in MetaCyto. Specifically, each marker in each cytometry panels was bisected into positive and negative regions. Cells fulfilling the cell definitions are identified. For example, the CD14+ CD33+ CD16- (CD16- monocytes) cell subset corresponds to the cells that fall into the CD14+ region, CD33+ region and CD16- region concurrently. The proportion of each cell subsets in the PBMC or whole blood were then calculated by dividing the number of cells in a subset by the total number of cells in the blood. These steps together produce the “formatted” Flow Cytometry: PBMC data. Because the Flow Cytometry data are sparse, batch correction was conducted with a simple linear model for each cell type, mean correcting by study accession while accounting for age, sex, and race. These steps produced the “formatted and normalized” Flow Cytometry data.</small>\")\n",
    "      \n",
    "      }else if( input$dataType %in% c('Microarray: PBMC','Microarray: Whole Blood') ){\n",
    "          html(id=\"graph_data_info\", html= \"<b>Microarray Data: </b><small>Gene expression array data were obtained in three formats. Data in their original formats (.CEL files, series matrix files, etc) constitute the “raw” gene expression data. For data collected on Affymetrix platforms, we utilized the ReadAffy utility in the affy Bioconductor package to read in raw .CEL files. The rma utility was used to conduct Robust Multichip Average (rma) background correction (as in (4)), quantile normalization, and log2 normalization of the data. For data collected on Illumina platforms and stored in the Gene Expression Omnibus (GEO) database, we utilized the getGEO utility in the GEOquery Bioconductor package to read the expression files and the preprocessCore package to conduction rma background correction, quantile normalization, and log2 normalization of the gene expression data. Finally, for data collected on Illumina platforms but not stored in GEO, we utilized the read.ilmn utility of the limma Bioconductor package to read in the data, and the neqc function to rma background correct, quantile normalize, and log2 normalize the gene expression data. In all instances, probe IDs were converted to Entrez Gene IDs. Where multiple probes mapped to the same Entrez Gene ID, the median value across probes was used to represent the expression value of the corresponding gene. The background-corrected and normalized datasets were combined based on common Entrez IDs, missing values were imputed with a k-nearest neighbors algorithm (R package: impute, function: impute.knn) using k = 10 and default values for rowmax, colmax, and maxp. Enter Gene IDs were then converted to HUGO gene names. These steps together produced the “formatted” gene expression files. To create the “formatted and normalized” datasets, we utilized established empirical Bayes algorithm for batch correction (2), compensating for possible batch effects while maintaining potential effects of age, race, and sex across datasets.</small>\") \n",
    "      \n",
    "      }else if( input$dataType == 'HAI Titer' ){\n",
    "          html(id=\"graph_data_info\", html= \"<b>HAI Titer Data: </b><small>Parsed HAI data were downloaded from ImmPort. Names were standardized to WHO viral nomenclature where necessary. These steps produced the “formatted” HAI data. Because HAI data is low-throughput, and most subjects only have measurements for one-to-three of the viruses, batch correction was conducted with a simple linear model for each analyte, mean correcting by study accession while accounting for age, sex, and race. These steps produced the “formatted and normalized” HAI data.</small>\")\n",
    "      \n",
    "      }else if( input$dataType %in%  c('Blood Count','Metabolic Panel','Lipid Profile') ){\n",
    "          html(id=\"graph_data_info\", html= \"<b>Lab Test Data: </b><small>Parsed lab test data were downloaded from ImmPort and organized into three standard panels: Complete Blood Count (CBC), Fasting Lipid Profile (FLP), and Comprehensive Metabolic Panel (CMP). Because FLP and CMP data are derived from only one study, no further standardization was required. These parsed data constitute the 'formatted' lab test data for these two types, and no 'normalized' table is available. CBC data were derived from 12 different studies. As such, names of individual tests as well as units of measurement needed to be standardized for the data to be directly comparable. For example, cells reported as thousands of cells per microliter were variously described as 'K/mi', 'K/', “cells/mm3”, “thou/mcL”, ”per”, “1000/microliter”, “10^3/mm3”, “10^3”, “1e3/uL”, “10*3/ul”, “/uL”, or “10^3 cells/uL”, and the names of assays were comparably variable. These standardization steps produced the “formatted” Lab Test: Blood Count data. These data were then batch corrected with a simple linear model for each analyte, mean correcting by study accession while accounting for age, sex, and race to produce the “formatted and normalized” CBC data.</small>\")\n",
    "      \n",
    "      }else if( input$dataType == 'Multiplex ELISA' ){\n",
    "          html(id=\"graph_data_info\", html= \"<b>Multiplex ELISA Data: </b><small>Secreted protein data measured on the multiplex ELISA platform were collected from ImmPort studies SDY22, SDY23, SDY111, SDY113, SDY180, SDY202, SDY305, SDY311, SDY312, SDY315, SDY420, SDY472, SDY478, SDY514, SDY515, SDY519, and SDY720. Data were drawn from the ImmPort parsed data tables using RMySQL or loaded into R from user-submitted unparsed data tables. Across the studies that contribute data, there are disparities in terms of the dilution of samples and units of measure in which the data are reported. We corrected for differences in dilution factor and units of measure across experiments and standardized labels associated with each protein as HUGO gene symbols. This step represents the “formatted” Multiplex ELISA data table.  Compensation for batch effects was conducted using an established empirical Bayes algorithm (2), with study accession representing batch and a model matrix that included age, sex, and race of each subject. Data were log2 transformed before normalization to better fit the assumption that the data are normally distributed. The effectiveness of the log2 transform, as well as our batch correction efforts, are detailed in the manuscript associated with this resource (5). This batch-corrected data represents the “formatted and normalized” Multiplex ELISA data. </small>\")\n",
    "      \n",
    "      }else if( input$dataType == 'Virus Neutralization Titer' ){\n",
    "          html(id=\"graph_data_info\", html= \"<b>Virus Neutralization Data: </b><small>Parsed VNT data were downloaded from ImmPort. Names were standardized to WHO viral nomenclature where necessary. These steps produced the “formatted” VNT data. Because VNT data is low-throughput, and most subjects only have measurements for one-to-three of the viruses, batch correction was conducted with a simple linear model for each analyte, mean correcting by study accession while accounting for age, sex, and race. These steps produced the “formatted and normalized” VNT data.</small>\")\n",
    "      \n",
    "      }else if( input$dataType %in% c( 'RNAseq: Whole Blood', 'RNAseq: PBMC') ){ #, 'Cibersort: Whole Blood') ){\n",
    "          html(id=\"graph_data_info\", html= \"<b>RNA-Seq Whole Blood and PBMC Data: </b><small>The RNA-Seq whole blood data was downloaded from Immport  (Studies: SDY1092, SDY1172, SDY1381, and SDY1412). The RNA-Seq peripheral mononucler cells comes from Immport study SDY67. The files used from Immport were formatted and normalized by the EPIC Consortium. The whole blood datasets were converted into TPM files and harmonized together using the HarmonyRNA algorithm. More information on the study can be found in this <a href=‘https://www.nature.com/articles/s41467-019-08794-x’>Nature Article</a> published by Amy H. Lee, et al. Some minor additional formatting was done for presenting data on 10k Immunomes.</small>\") \n",
    "            \n",
    "      }else if( input$dataType %in% c('Mass Spectrometry: Newborns') ){ #, 'Cibersort: Whole Blood') ){\n",
    "          html(id=\"graph_data_info\", html= \"<b>Newborn Mass Spectrometry Data: </b><small>The newborn RNA-Seq and Mass Spectrometry datasets were downloaded from Immport  (Studies: SDY1256 and SDY1412). The RNAseq data comes from peripheral blood and Mass-Spec data comes from blood plasma. Phenotyping data was obtaiend by from running Cibersort on RNAseq data. The files used from Immport were formatted and normalized by the EPIC Consortium. More information on the study can be found in this <a href=‘https://www.nature.com/articles/s41467-019-08794-x’>Nature Article</a> published by Amy H. Lee, et al. Some minor additional formatting was done for presenting data on 10k Immunomes.</small>\") \n",
    "      \n",
    "      }else if( input$dataType == 'RNAseq: T cells' ){\n",
    "          html(id=\"graph_data_info\", html= \"<b>RNA-Seq T Cell Data: </b><small>The T cells' raw sequence read files were download from the Sequence Read Archive (SRA). The datasets relate to ImmPort studies SDY888 and SDY1324. The sequence reads are quantified at the gene level using Kallisto. The Transcripts per million (TPM) is used to quantify the transcription levels in T cells.</small>\")\n",
    "\n",
    "      }else{\n",
    "          html(id=\"graph_data_info\", html= \"   \")\n",
    "      }\n",
    "  })\n",
    "})\n",
    "body(server) = callConcat( body(server), temp )"
   ]
  },
  {
   "cell_type": "markdown",
   "metadata": {},
   "source": [
    "# <font color=\"purple\">Graph Functions</font>"
   ]
  },
  {
   "cell_type": "markdown",
   "metadata": {},
   "source": [
    "This is the code that creates all of the graphs of the different datasets. This code is put inside of the <font color=\"purple\">Server Object</font>. Three different people have added datasets 10 Immunomes, **Kelly, Zicheng, and Elliott**. I broke up the graphing portion into sections based on who created the original datasets. "
   ]
  },
  {
   "cell_type": "markdown",
   "metadata": {},
   "source": [
    "## <font color=\"gray\">Helper:</font> <font color=\"purple\">Set analytes"
   ]
  },
  {
   "cell_type": "markdown",
   "metadata": {},
   "source": [
    "This helper function is used by both **Kelly, Zicheng, and Elliott**. It sets what specific part of a dataset the viewer wishes to analyze to a varaible names `analyte`"
   ]
  },
  {
   "cell_type": "code",
   "execution_count": 4126,
   "metadata": {},
   "outputs": [],
   "source": [
    "temp= quote({\n",
    "#select the analyte for plotting based on user input\n",
    "analyte <- reactive({ req(switch(input$dataType, #<-- req() makes it so that the switch stops, when user hasn't made selection yet (stops errors)\n",
    "                              \"CyTOF: PBMC\" = input$cytof_pbmc_analyte,\n",
    "                              \"ELISA\" = input$elisa_analyte,\n",
    "                              \"Flow Cytometry: PBMC\" = input$flow_pbmc_analyte,\n",
    "                              \"Flow Cytometry: Whole Blood\" = input$flow_blood_analyte,\n",
    "                              \"Microarray: Whole Blood\" = input$gene_blood_analyte,\n",
    "                              \"Microarray: PBMC\" = input$gene_pbmc_analyte,\n",
    "                              \"Gene Set Enrichment: Whole Blood\" = input$gsea_analyte,\n",
    "                              \"HAI Titer\" = input$hai_analyte,\n",
    "                              \"HLA Type\" = input$hla_analyte,\n",
    "                              \"Multiplex ELISA\" = input$mbaaAnalyte,\n",
    "                              \"Blood Count\" = input$cbcAnalyte,\n",
    "                              \"Lipid Profile\" = input$flpAnalyte,\n",
    "                              \"Metabolic Panel\" = input$cmpAnalyte,\n",
    "                              \"Virus Neutralization Titer\" = input$vntAnalyte,\n",
    "                              \"RNAseq: T cells\" = input$T_cell_analyte,\n",
    "                              \"RNAseq: Whole Blood\" = input$RNAseq_newborns,\n",
    "                              \"RNAseq: PBMC\" = input$RNAseq_pbmc,\n",
    "                              #\"Cibersort: Whole Blood\" = input$cibersort_analyte,\n",
    "                              \"Mass Spectrometry: Newborns\" = input$mass_spec_analyte\n",
    "  ))})\n",
    "})\n",
    "body(server) = callConcat( body(server), temp )\n"
   ]
  },
  {
   "cell_type": "markdown",
   "metadata": {},
   "source": [
    "### <font color=\"gray\">Cleaning Code, Failed</font>"
   ]
  },
  {
   "cell_type": "markdown",
   "metadata": {},
   "source": [
    "```python\n",
    "#updateSelectInput(session, \"dataType\", selected = 'RNAseq: T cells', choices = c('RNAseq: T cells','Newborn RNAseq'))\n",
    "tempHtml=temp= quote({\n",
    "#select the analyte for plotting based on user input\n",
    "  analyte <- reactive({\n",
    " \n",
    "      # Get analytes of seleceted dataset and setup input box\n",
    "      if( input$dataType %in% c('CyTOF: PBMC','ELISA','Flow Cytometry: Whole Blood','Flow Cytometry: PBMC','HAI Titer','Multiplex ELISA','Lab Tests: Blood Count','Lab Tests: Lipid Profile','Lab Tests: Metabolic Panel','Virus Neutralization Titer')  ){\n",
    "          choices = switch(input$dataType,\n",
    "                 \"CyTOF: PBMC\" = cytof_pbmc_analytes,\n",
    "                 \"ELISA\" = elisaAnalytes,\n",
    "                 \"Flow Cytometry: PBMC\" = flow_pbmc_analytes,\n",
    "                 \"Flow Cytometry: Whole Blood\" = flow_blood_analytes,\n",
    "                 \"HAI Titer\" = haiAnalytes,\n",
    "                 \"Multiplex ELISA\" = mbaaAnalytes,\n",
    "                 \"Lab Tests: Blood Count\" = cbcAnalytes,\n",
    "                 \"Lab Tests: Lipid Profile\" = flpAnalytes,\n",
    "                 \"Lab Tests: Metabolic Panel\" = cmpAnalytes,\n",
    "                 'Virus Neutralization Titer' = vntAnalytes\n",
    "                )\n",
    "          updateSelectInput( session, \"analyte\", selected = choices[1], choices = choices )\n",
    "          new_analyte = input$analyte\n",
    "      }else{ #( input.dataType %in% c('Gene Expression: PBMC','Gene Expression: Whole Blood','RNAseq: T cells','Newborn RNAseq') ){\n",
    "          new_analyte = input$HUGO\n",
    "      }  \n",
    "      \n",
    "      new_analyte\n",
    "      \n",
    "  })\n",
    "})\n",
    "boedy(server) = callConcat( body(server), temp ) \n",
    "```\n"
   ]
  },
  {
   "cell_type": "markdown",
   "metadata": {},
   "source": [
    "## <font color=\"purple\">Kelly Plots"
   ]
  },
  {
   "cell_type": "markdown",
   "metadata": {},
   "source": [
    "###  <font color=\"gray\">Helper: <font color=\"purple\">Set data"
   ]
  },
  {
   "cell_type": "code",
   "execution_count": 4127,
   "metadata": {},
   "outputs": [],
   "source": [
    "kelly_data= list('Multiplex ELISA RAW'=mbaa_raw, 'Flow Cytometry: PBMC RAW'=flow_pbmc_raw, 'CyTOF: PBMC RAW'=cytof_pbmc_raw, \"ELISA RAW\"=elisa_raw,\n",
    "                 \"Microarray: Whole Blood RAW\"=gene_blood_raw, \"Microarray: PBMC RAW\"=gene_pbmc_raw, \"HAI Titer\"=hai_raw, \"Blood Count RAW\"=cbc_raw,\n",
    "                 'Virus Neutralization Titer RAW'=vnt_raw, \"CyTOF: PBMC\"=cytof_pbmc, \"ELISA\"=elisa, \"Flow Cytometry: PBMC\"=flow_pbmc, \"Blood Count\"=cbc,\n",
    "                 \"Flow Cytometry: Whole Blood\"=flow_blood_raw, \"Microarray: Whole Blood\"=gene_blood, 'Virus Neutralization Titer' = vnt, \n",
    "                 \"Microarray: PBMC\"=gene_pbmc, \"HAI Titer\"=hai, \"HLA Type\"=hla, \"Multiplex ELISA\"=mbaa, \"Lipid Profile\"=flp, \"Metabolic Panel\" = cmp #,\n",
    "                )"
   ]
  },
  {
   "cell_type": "markdown",
   "metadata": {},
   "source": [
    "### <font color=\"gray\">Helper: <font color=\"purple\">Titles and Y-axis labels"
   ]
  },
  {
   "cell_type": "code",
   "execution_count": 4128,
   "metadata": {},
   "outputs": [],
   "source": [
    "temp= quote({\n",
    "    # Generate a Title\n",
    "    title <- reactive({paste(gsub('_',' ',analyte()), 'by Subject')})   \n",
    "    \n",
    "    # Generate Labels\n",
    "    ylab <- reactive({ \n",
    "      switch( input$dataType ,\n",
    "             \"CyTOF: PBMC\" = paste(gsub('_',' ',analyte()),'(percent)'),\n",
    "             \"ELISA\"= paste(analyte(), '(Concentration in pg/mL)'),\n",
    "             \"Flow Cytometry: PBMC\" = paste(gsub('_',' ',analyte()),'(percent)'),\n",
    "             \"Flow Cytometry: Whole Blood\" = paste(gsub('_',' ',analyte()), '(percent)'),\n",
    "             \"Microarray: Whole Blood\" = paste(analyte(), '(Expression)'),\n",
    "             \"Microarray: PBMC\" = paste(analyte(), '(Expression)'),\n",
    "             \"Gene Set Enrichment: Whole Blood\" = paste(analyte()),\n",
    "             \"HAI Titer\" = paste(analyte(), '(HAI Titer)'),\n",
    "             \"Multiplex ELISA\" = paste(analyte(), '(Concentration in pg/mL)'),\n",
    "             \"Blood Count\" = analyte(),\n",
    "             \"Lipid Profile\" = analyte(),\n",
    "             \"Metabolic Panel\" = analyte(),\n",
    "             \"Virus Neutralization Titer\" = paste(analyte(), '(Virus Neutralization Titer)'),\n",
    "             \"RNAseq: T cells\" = paste(analyte(), '(Expression)'),\n",
    "             \"RNAseq: Newborns\" = paste(analyte(), '(Expression)'),\n",
    "             #\"Cibersort: Whole Blood\" = paste(analyte(), '(Expression)'),\n",
    "             \"Mass Spectrometry: Newborns\" = paste(analyte(), '(Expression)')\n",
    "      )\n",
    "    })\n",
    "\n",
    "})\n",
    "body(server) = callConcat( body(server), temp )"
   ]
  },
  {
   "cell_type": "markdown",
   "metadata": {},
   "source": [
    "### <font color=\"gray\">Helper: <font color=\"purple\">Cytometry Data's Extra Infro"
   ]
  },
  {
   "cell_type": "markdown",
   "metadata": {},
   "source": [
    "This is additional information that is displayed in the cytometry sidebar when the user is looking at the \"CyTOF: PBMC\" dataset"
   ]
  },
  {
   "cell_type": "code",
   "execution_count": 4129,
   "metadata": {},
   "outputs": [],
   "source": [
    "cyto_labels= list('B_cells'=\"CD19+,CD3- or CD19+,CD20+\", 'CD16_neg_monocytes'=\"CD14+,CD33+,CD16-\", 'CD16_pos_monocytes'=\"CD14+,CD33+,CD16+\",\n",
    "                  'CD4_T_cells'=\"CD3+,CD4+\", 'CD8_T_cells'=\"CD3+,CD8+\", 'Central_Memory_CD4_T_cells'=\"CD3+,CD4+,CCR7+,CD45RA-\",\n",
    "                  'Central_Memory_CD8_T_cells'=\"CD3+,CD8+,CCR7+,CD45RA-\", 'Effector_CD4_T_cells'=\"CD3+,CD4+,CCR7-,CD45RA+\",\n",
    "                  'Effector_CD8_T_cells'=\"CD3+,CD8+,CCR7-,CD45RA+\", 'Effector_Memory_CD4_T_cells'=\"CD3+,CD4+,CCR7-,CD45RA-\",\n",
    "                  'Effector_Memory_CD8_T_cells'=\"CD3+,CD8+,CCR7-,CD45RA-\", 'Gamma_Delta_T_cells'=\"TCRgd+,CD3+\", 'Lymphocytes'=\"CD14-,CD33-\",\n",
    "                  'Memory_B_cells'=\"CD3-,CD19+,CD20+,CD24+,CD38-\", 'Monocytes'=\"CD14+,CD33+\", 'Naive_B_cells'=\"CD3-,CD19+,CD20+,CD24-,CD38+\",\n",
    "                  'Naive_CD4_T_cells'=\"CD3+,CD4+,CCR7+,CD45RA+\", 'Naive_CD8_T_cells'=\"CD3+,CD8+,CCR7+,CD45RA+\", 'NK_cells'=\"CD3-,CD16+,CD56+\",\n",
    "                  'NKT_cells'=\"CD3+,CD56+\", 'Plasmablasts'=\"CD3-,CD20-,CD27+,CD38+\", 'T_cells'=\"CD3+\",\n",
    "                  'Transitional_B_cells'=\"CD3-,CD19+,CD20+,CD24+,CD38+\", 'Tregs'=\"CD3+,CD4+,CD25+,CD127- or CD3+,CD4+,CD25+,FOXP3+\"\n",
    "                )"
   ]
  },
  {
   "cell_type": "markdown",
   "metadata": {},
   "source": [
    "### <font color=\"purple\">Kelly Main Functions"
   ]
  },
  {
   "cell_type": "markdown",
   "metadata": {},
   "source": [
    "We write the function `kellyData` which gets the dataset to plot"
   ]
  },
  {
   "cell_type": "code",
   "execution_count": 4130,
   "metadata": {},
   "outputs": [],
   "source": [
    "temp= quote({\n",
    "    kellyData <- reactive({\n",
    "        \n",
    "            # Get dataset from kelly_data dictionary\n",
    "            data_name = input$dataType\n",
    "            if( input$processing == F && input$dataType %in% c('CyTOF: PBMC','ELISA','Flow Cytometry: PBMC','Microarray: PBMC','Microarray: Whole Blood','HAI Titer','Multiplex ELISA','Blood Count','Virus Neutralization Titer') ){\n",
    "                data_name = paste(data_name, \"RAW\" )\n",
    "            }\n",
    "            data = kelly_data[[data_name]]\n",
    "            \n",
    "            # Format data for graphing\n",
    "            data = data[ data$age > min(input$ageRange) & data$age < max(input$ageRange) & data$gender %in% input$gender & data$race %in% input$race ,]\n",
    "            data= data[ !is.na( data[,analyte()] ), ]\n",
    "            \n",
    "            # Remove outliers\n",
    "            if( input$outliers == F ){\n",
    "                vals= data[,analyte()]\n",
    "                data= data[ abs(vals- mean(vals)) < 2*sd(vals) , ]\n",
    "            }\n",
    "        \n",
    "            kelly_data = data.frame( Age=data[,'age'], Sex=as.factor(data[,'gender']), Value=round(data[,analyte()],2), Study=factor(data[,'study_accession']), Race=data[,'race']  )  \n",
    "            kelly_data   \n",
    "    })\n",
    "})\n",
    "body(server) = callConcat( body(server), temp )\n"
   ]
  },
  {
   "cell_type": "markdown",
   "metadata": {},
   "source": [
    "We write the funciton `kellyPlot` that creates the plot"
   ]
  },
  {
   "cell_type": "code",
   "execution_count": 4131,
   "metadata": {},
   "outputs": [],
   "source": [
    "temp= quote({\n",
    "    kellyPlot <- reactive({\n",
    "        \n",
    "            to_graph = kellyData()\n",
    "            \n",
    "            # Decide if graph on log scale\n",
    "            scaleChoice = 'identity'\n",
    "            if( input$dataType %in% c('Microarray: Whole Blood','Microarray: PBMC','Multiplex ELISA','RNAseq: T cells') ){\n",
    "                scaleChoice = 'log10'\n",
    "            } \n",
    "        \n",
    "            # If cytof dataset, display analyte label\n",
    "            if( input$dataType == 'CyTOF: PBMC' ){\n",
    "                output$cytof_label= renderText({ paste(\"* Defined by\", cyto_labels[[analyte()]] ) })  #\"*\", analyte(),\n",
    "            }\n",
    "            \n",
    "            # Plot Output depending on selected \"plot by\"\n",
    "            if( input$colorCode == 'Age & Sex' ){\n",
    "                p <- ggplot(data=to_graph, aes(x=Age, y=Value, color=Sex, race=Race, study=Study ) ) + geom_point(alpha=.6) + theme_gdocs() +  \n",
    "                        labs(x = 'Subject Ages', y = ylab(), title = title() )  + scale_y_continuous(trans=scaleChoice) +\n",
    "                        stat_smooth(  mapping=aes(x=Age, y=Value, color=Sex), inherit.aes=FALSE, se=FALSE )\n",
    "                #p + stat_smooth( data=to_graph, mapping=aes(x=Age, y=Value, color=Sex), se=FALSE ) #stat_smooth(method=loess, data = to_graph[,c(\"Age\",\"Value\")] )  \n",
    "            \n",
    "            }else if( input$colorCode == 'Study' ){\n",
    "                p <- ggplot(data= to_graph, aes(x=Age, y=Value, sex=Sex, race=Race, color=Study) ) + geom_point(alpha=.6) + theme_gdocs() +\n",
    "                          labs(x = 'Subject Ages', y = ylab(), title = title() ) +  scale_y_continuous(trans=scaleChoice) +\n",
    "                          stat_smooth(  mapping=aes(x=Age, y=Value, color=Study), inherit.aes=FALSE, se=FALSE )  \n",
    "                #p +  scale_y_continuous(trans=scaleChoice) + stat_smooth(method=loess,data = dataBind(),aes(fill = factor(dataBind()[,'study_accession'])))+\n",
    "            \n",
    "            }else{ # Plot by Ethnicity\n",
    "                par(las=1, bty='l', lwd=2, family  = 'sans',cex.axis=1.25, cex.lab=1.25, cex.main=1.75)\n",
    "                p <- ggplot( data= to_graph, aes(x=Race, y= Value, fill=Race, sex=Sex, study=Study) ) +\n",
    "                        geom_jitter( width=0.15, alpha=0.8, stroke=0, size=2 )  + #height = 0, opacity=.5\n",
    "                        geom_violin( inherit.aes=FALSE, mapping=aes(x=Race, y= Value, fill=Race), trim= FALSE, alpha=0.5, show.legend=FALSE ) + #   inherit.aes=T, colour=NA,\n",
    "                        #geom_jitter( data=to_graph, aes(x=Race, y= Value, fill=Race, sex=Sex, study=Study), width=0.15, alpha=0.8, stroke=0, size=2 )  + #height = 0, opacity=.5\n",
    "                        labs(x = 'Race', y = ylab(), title = title() ) + \n",
    "                        theme_gdocs() \n",
    "                ggplotly(p, tooltip = c(\"Value\", \"density\", \"Sex\", \"Study\") )\n",
    "            }\n",
    "       \n",
    "    })\n",
    "})\n",
    "body(server) = callConcat( body(server), temp )\n"
   ]
  },
  {
   "cell_type": "code",
   "execution_count": null,
   "metadata": {},
   "outputs": [],
   "source": []
  },
  {
   "cell_type": "markdown",
   "metadata": {},
   "source": [
    "## <font color=\"purple\">Zicheng Plot"
   ]
  },
  {
   "cell_type": "markdown",
   "metadata": {},
   "source": [
    "We write the function `zichengData` which gets the dataset to plot"
   ]
  },
  {
   "cell_type": "code",
   "execution_count": 4132,
   "metadata": {},
   "outputs": [],
   "source": [
    "temp= quote({\n",
    "    zichengData <- reactive({\n",
    "        \n",
    "        data.frame( Cell= gsub(\" CD3.*\",\"\",gene_Tcell_raw[,'CellType']) , Value= gene_Tcell_raw[,analyte()] )\n",
    "    })\n",
    "})\n",
    "body(server) = callConcat( body(server), temp )"
   ]
  },
  {
   "cell_type": "markdown",
   "metadata": {},
   "source": [
    "We write the funciton `zichengPlot` that creates the plot"
   ]
  },
  {
   "cell_type": "code",
   "execution_count": 4133,
   "metadata": {},
   "outputs": [],
   "source": [
    "temp= quote({\n",
    "    zichengPlot <- reactive({\n",
    "    \n",
    "        # Create dataset\n",
    "        to_graph= zichengData()\n",
    "\n",
    "        # Create Plot\n",
    "        par(las=1, bty='l', lwd=2, family  = 'sans', cex.axis=1.25, cex.lab=1.25, cex.main=1.75) # Some basic style formating\n",
    "        p <- ggplot(data= to_graph, aes(x=Cell, y =Value, fill=Cell) )  + \n",
    "                geom_jitter(width = 0.15, alpha = 0.75 , stroke = .3, size=2 )  + #height = 0, opacity=.5\n",
    "                geom_violin( trim= FALSE, alpha = 0.5, inherit.aes = T, show.legend=FALSE ) + # colour=NA,\n",
    "                labs( y=paste(analyte(),' Expression'), title=paste( analyte(),\" by Cell\") )+ #paste(analyte(), '(Expression)')\n",
    "                theme_gdocs() \n",
    "       ggplotly(p, tooltip = c(\"Value\", \"density\") ) # , \"Sex\", \"Subject\"\n",
    "    })\n",
    "})\n",
    "body(server) = callConcat( body(server), temp )"
   ]
  },
  {
   "cell_type": "markdown",
   "metadata": {},
   "source": [
    "## <font color=\"purple\">Elliott Plots"
   ]
  },
  {
   "cell_type": "markdown",
   "metadata": {},
   "source": [
    "We write the function `elliottData` which gets the dataset to plot"
   ]
  },
  {
   "cell_type": "code",
   "execution_count": 4134,
   "metadata": {},
   "outputs": [
    {
     "data": {
      "text/plain": [
       "NULL"
      ]
     },
     "execution_count": 4134,
     "metadata": {},
     "output_type": "execute_result"
    }
   ],
   "source": [
    "#head(pbmc_subjects)"
   ]
  },
  {
   "cell_type": "code",
   "execution_count": 4135,
   "metadata": {},
   "outputs": [
    {
     "data": {
      "text/plain": [
       "NULL"
      ]
     },
     "execution_count": 4135,
     "metadata": {},
     "output_type": "execute_result"
    }
   ],
   "source": [
    "#pbmc_counts[1,1:10]"
   ]
  },
  {
   "cell_type": "code",
   "execution_count": 4136,
   "metadata": {},
   "outputs": [],
   "source": [
    "temp= quote({\n",
    "    elliottData <- reactive({\n",
    "\n",
    "        # Create Whole Blood RNA Data\n",
    "        if( input$dataType == 'RNAseq: Whole Blood'  ){\n",
    "            num = which(whole_blood_counts$hgnc==analyte() )  #  gambia_rna$hgnc\n",
    "            gene_name = whole_blood_counts[num,2]\n",
    "            to_graph = whole_blood_subjects\n",
    "            a_row = whole_blood_counts[num,3:dim(whole_blood_counts)[2]]\n",
    "            to_graph$Expression = as.numeric(a_row)\n",
    "        }\n",
    "        \n",
    "        # Create PBMC RNA Data\n",
    "        else if(  input$dataType == 'RNAseq: PBMC'  ){\n",
    "            num = which(pbmc_counts$hgnc==analyte() )\n",
    "            gene_name = pbmc_counts[num,1]\n",
    "            to_graph = pbmc_subjects\n",
    "            a_row = pbmc_counts[num,2:dim(pbmc_counts)[2]]\n",
    "            to_graph$Expression = as.numeric(a_row)\n",
    "        }\n",
    "        \n",
    "        # Create Mass Spec Data\n",
    "        #else if( input$dataType == \"Mass Spectrometry: Newborns\" ){  \n",
    "        else{\n",
    "            col_num = which( colnames( guinea_mass_spec ) == analyte() )[1]  # <- get column number of analyte\n",
    "            to_graph= data.frame( Expression=  round(guinea_mass_spec[,col_num],3) , Group= as.factor(  guinea_mass_spec$DAY ), Sex=guinea_mass_spec$SEX, Vaccination=guinea_mass_spec$TREATMENT  ) \n",
    "            to_graph$Day =  guinea_mass_spec$DAY \n",
    "            to_graph$DayPlot =  guinea_mass_spec$DAY + rnorm( dim(guinea_mass_spec)[1] , mean = 0, sd = .15 ) \n",
    "            to_graph$Subject =  guinea_mass_spec$SUBJECT\n",
    "        }\n",
    "        \n",
    "        to_graph # <- return dataset\n",
    "    })\n",
    "})\n",
    "body(server) = callConcat( body(server), temp )"
   ]
  },
  {
   "cell_type": "markdown",
   "metadata": {},
   "source": [
    "We write the funciton `elliottPlot` that creates the plot"
   ]
  },
  {
   "cell_type": "code",
   "execution_count": 4137,
   "metadata": {},
   "outputs": [],
   "source": [
    "temp= quote({\n",
    "    elliottPlot <- reactive({\n",
    "        \n",
    "        to_graph = elliottData()  # <- Get dataset\n",
    "        \n",
    "    # For when the data is NOT RNAseq    \n",
    "    if( input$dataType != 'RNAseq: Whole Blood' & input$dataType != 'RNAseq: PBMC' ){\n",
    "        # Decide how to plot data based on \"newbornPlotBy\" input value\n",
    "        main_plot = switch( input$newbornPlotBy ,\n",
    "             'Age' = ggplot( to_graph, aes(x=DayPlot, day=Day, y=Expression, color=Group, sex=Sex, subject=Subject ) ), #status=Vaccination,\n",
    "             'Sex'= ggplot( to_graph, aes(x=DayPlot, day=Day, y=Expression, color=Sex, status=Vaccination, subject=Subject ) ) #,\n",
    "              #'Vaccination' = ggplot( to_graph, aes(x=DayPlot, day=Day, y=Expression, color=Vaccination, sex=Sex, subject=Subject ) ) \n",
    "             ) \n",
    "        \n",
    "        my_ylab = switch( input$dataType ,\n",
    "              'RNAseq: Newborns' = \"Gene Expression (Transcripts per Million)\",\n",
    "              \"Mass Spectrometry: Newborns\" = \"Molecule Expression\",\n",
    "              \"Phenotype Expression\"\n",
    "              )\n",
    "     \n",
    "        p = main_plot + geom_point(alpha=.7) + theme_gdocs() + labs(x='Days Alive', y=my_ylab, title=paste( analyte(),\" Expression in Newborns\") ) \n",
    "        ggplotly( p , tooltip = c(\"Day\", \"Expression\", \"Subject\", \"Sex\" ) )  #, \"Vaccination\"\n",
    "    \n",
    "    }else{ # For when it is RNAseq Data\n",
    "        \n",
    "        # Change code so that whole blood study SDY1092 ages are displayed as NA\n",
    "        to_graph$age = to_graph$Age\n",
    "        if( input$dataType == 'RNAseq: Whole Blood' ){\n",
    "            to_graph$Age = round(to_graph$Age, digits=1)\n",
    "            to_graph$Expression = round(to_graph$Expression, digits=1)\n",
    "            to_graph$Age[ to_graph$Study==\"SDY1092\" ] = NA\n",
    "        }\n",
    "        \n",
    "        main_plot = switch( input$newbornPlotBy ,\n",
    "             'Age' = ggplot( to_graph, aes(x=age, y=Expression, color=Study, sex=Sex, subject=Subject, Age=Age ) ), #status=Vaccination,\n",
    "             'Sex' = ggplot( to_graph, aes(x=age, y=Expression, color=Sex, study=Study, subject=Subject, Age=Age ) ) #,\n",
    "              #'Vaccination' = ggplot( to_graph, aes(x=DayPlot, day=Day, y=Expression, color=Vaccination, sex=Sex, subject=Subject ) ) \n",
    "             ) \n",
    "        \n",
    "        my_ylab= \"Transcripts per Million\"\n",
    "        \n",
    "        p = main_plot + geom_point(alpha=.7) + theme_gdocs() + labs(x='Age', y=my_ylab, title=paste( analyte(),\" Expression\") )\n",
    "        ggplotly( p , tooltip = c(\"Age\", \"Expression\",\"Study\",\"Sex\", \"Subject\"  ) )  #, \"Vaccination\"\n",
    "    }\n",
    "        \n",
    "    })\n",
    "})\n",
    "body(server) = callConcat( body(server), temp )\n"
   ]
  },
  {
   "cell_type": "markdown",
   "metadata": {},
   "source": [
    "##  <font color=\"purple\">Render  Plot"
   ]
  },
  {
   "cell_type": "markdown",
   "metadata": {},
   "source": [
    "Based on whoever's dataset (Kelly, Zicheng, or Elliott) we are looking at, we create the graph of the dataset the user want to see. We also print the number of subjects currently being graph. This graph is rendered using the [R Plotly package](https://plot.ly/r/) so that it contains a bunch of cool interactive features."
   ]
  },
  {
   "cell_type": "code",
   "execution_count": 4138,
   "metadata": {},
   "outputs": [],
   "source": [
    "temp= quote({\n",
    "    \n",
    "    plotInput <- reactive({\n",
    "        if( input$dataType %in% names(kelly_data) ){ \n",
    "            p <- kellyPlot()\n",
    "            my_data = kellyData()\n",
    "        }else if( input$dataType == 'RNAseq: T cells'  ){\n",
    "            p <- zichengPlot()\n",
    "            my_data = zichengData()\n",
    "        }else{ # these plots are: \"RNAseq: Newborns\" \"Cibersort: Whole Blood\" \"Mass Spectrometry: Newborns\" \n",
    "            p <- elliottPlot()\n",
    "            my_data = elliottData()\n",
    "        }        \n",
    "        output$num_subjects = renderText({  paste( dim(my_data)[1],\" Subjects\" )  })\n",
    "        p\n",
    "    }) #<-- plotInput end    \n",
    "    output$dataPlot <- renderPlotly({ plotInput() })\n",
    "    \n",
    "})  #<-- Quote end\n",
    "body(server) = callConcat( body(server), temp )\n"
   ]
  },
  {
   "cell_type": "markdown",
   "metadata": {},
   "source": [
    "# <font color=\"green\">Download Data</font>"
   ]
  },
  {
   "cell_type": "markdown",
   "metadata": {},
   "source": [
    "The functions below run when one of the \"Download\" buttons. A user can download an image, a cleaned up version of the dataset, or all of the raw data"
   ]
  },
  {
   "cell_type": "markdown",
   "metadata": {},
   "source": [
    "## <font color=\"green\">Download Image</font> <font color=\"red\">Fix Glitches"
   ]
  },
  {
   "cell_type": "markdown",
   "metadata": {},
   "source": [
    "The code that runs when \"image\" is clicked"
   ]
  },
  {
   "cell_type": "markdown",
   "metadata": {},
   "source": [
    "<font color=\"red\">This code currently doesn't work for every graph. Figure out why and fix it."
   ]
  },
  {
   "cell_type": "code",
   "execution_count": 4139,
   "metadata": {},
   "outputs": [],
   "source": [
    "temp= quote({\n",
    "  #Handle 'Download Plot' button on Visualize page\n",
    "  output$downloadPlot <- downloadHandler(\n",
    "    filename = function() {\n",
    "      paste('10KImmunomes', input$dataType, analyte(), '.pdf', sep='_')\n",
    "      #paste('10KImmunomes', input$dataType, '.pdf', sep='_')  \n",
    "    },\n",
    "    content = function(file) {\n",
    "      pdf(file, width = 8, height = 5)\n",
    "      print(plotInput())\n",
    "      dev.off()\n",
    "    }\n",
    "  )\n",
    "})  #<-- Quote end\n",
    "body(server) = callConcat( body(server), temp )"
   ]
  },
  {
   "cell_type": "markdown",
   "metadata": {},
   "source": [
    "## <font color=\"green\">Download Plot Data</font>"
   ]
  },
  {
   "cell_type": "markdown",
   "metadata": {},
   "source": [
    "The code that runs when \"Plot Data\" is clicked"
   ]
  },
  {
   "cell_type": "code",
   "execution_count": 4140,
   "metadata": {},
   "outputs": [],
   "source": [
    "temp= quote({\n",
    "  output$downloadPlotData <- downloadHandler(\n",
    "    # Write File Name  \n",
    "    filename = function() { paste('10KImmunomes', input$dataType, analyte(), '.csv', sep='_') },  # Sys.Date()  <-- can add if u like \n",
    "    \n",
    "    # Create File\n",
    "    content = function(file) {\n",
    "        # Get Dataset for file\n",
    "        if( input$dataType %in% names(kelly_data) ){ \n",
    "            dataPlot <- kellyData()\n",
    "        }else if( input$dataType == 'RNAseq: T cells'  ){\n",
    "            dataPlot <- zichengData()\n",
    "        }else{ # these plots are: \"RNAseq: Newborns\" \"Cibersort: Whole Blood\" \"Mass Spectrometry: Newborns\" \n",
    "            dataPlot <- elliottData()\n",
    "        }       \n",
    "        write.csv( dataPlot, file, row.names = F) # Write File         \n",
    "        \n",
    "      # Get Dataset for file\n",
    "      #dataPlot= switch( input$dataType,\n",
    "      #                  'RNAseq: T cells'  =  cbind( data()[,2:3] , data()[, analyte()] ) ,\n",
    "      #                  \"RNAseq: Newborns\"   =  data()[ which(data()$hgnc==analyte()) , ]   ,\n",
    "      #                  \"Mass Spectrometry: Newborns\"=  cbind( data()[,4:8] , data()[, analyte()] ) ,\n",
    "      #                  \"Cibersort: Whole Blood\"=  cbind( data()[,4:8] , data()[, analyte()] ) ,\n",
    "      #                   cbind( data()[,2:5] , data()[, analyte()] ) # <-- All Other Data                       \n",
    "      #                )        \n",
    "\n",
    "    }\n",
    "  )\n",
    "})  #<-- Quote end\n",
    "body(server) = callConcat( body(server), temp )"
   ]
  },
  {
   "cell_type": "markdown",
   "metadata": {},
   "source": [
    "## <font color=\"green\">Download All Data</font>"
   ]
  },
  {
   "cell_type": "markdown",
   "metadata": {},
   "source": [
    "The code that runs when \"All Data\" is clicked"
   ]
  },
  {
   "cell_type": "code",
   "execution_count": 4141,
   "metadata": {},
   "outputs": [],
   "source": [
    "temp= quote({\n",
    "    observeEvent( input$dataType , {\n",
    "        # Get the path to where the data will be downloaded from\n",
    "        file_path = switch(input$dataType,\n",
    "              \"CyTOF: PBMC\" = \"https://storage.googleapis.com/bakar-data/10k/data_raw/CyTOF_PBMC.zip\", \n",
    "              \"ELISA\" = \"https://storage.googleapis.com/bakar-data/10k/data_raw/ELISA.zip\",\n",
    "              \"Flow Cytometry: PBMC\" = \"https://storage.googleapis.com/bakar-data/10k/data_raw/Flow_Cytometry_PBMC.zip\",\n",
    "              \"Flow Cytometry: Whole Blood\" = \"https://storage.googleapis.com/bakar-data/10k/data_raw/Flow_Cytometry_Whole_Blood.zip\",\n",
    "              \"Microarray: Whole Blood\" = \"https://storage.googleapis.com/bakar-data/10k/data_raw/Gene_Expression_Whole_Blood.zip\",\n",
    "              \"Microarray: PBMC\" = \"https://storage.googleapis.com/bakar-data/10k/data_raw/Gene_Expression_PBMC.zip\",  #\"Gene Set Enrichment: Whole Blood\" = input$gsea_analyte,\n",
    "              \"HAI Titer\" = \"https://storage.googleapis.com/bakar-data/10k/data_raw/HAI_Titer.zip\",\n",
    "              \"HLA Type\" = \"https://storage.googleapis.com/bakar-data/10k/data_raw/hla.csv\",\n",
    "              \"Multiplex ELISA\" = \"https://storage.googleapis.com/bakar-data/10k/data_raw/Multiplex_ELISA.zip\",\n",
    "              \"Blood Count\" = \"https://storage.googleapis.com/bakar-data/10k/data_raw/Lab_Tests_Blood_Count.zip\",\n",
    "              \"Lipid Profile\" = \"https://storage.googleapis.com/bakar-data/10k/data_raw/lab_test_fasting_lipid_profile.csv\",\n",
    "              \"Metabolic Panel\" = \"https://storage.googleapis.com/bakar-data/10k/data_raw/lab_test_comprehensive_metabolic_panel.csv\",\n",
    "              \"Virus Neutralization Titer\" = \"https://storage.googleapis.com/bakar-data/10k/data_raw/Virus_Neutralization_Titer.zip\",\n",
    "              \"RNAseq: T cells\" = \"https://storage.googleapis.com/bakar-data/10k/data_raw/gene_Tcells_formatted.csv\",\n",
    "              \"RNAseq: Whole Blood\" = \"https://storage.googleapis.com/bakar-data/10k/data_app/Guinea_RNA.csv\",\n",
    "              \"RNAseq: PBMC\" = \"https://storage.googleapis.com/bakar-data/10k/data_app/Guinea_RNA.csv\",         \n",
    "              \"Mass Spectrometry: Newborns\" = \"https://storage.googleapis.com/bakar-data/10k/data_app/png_metabolomics.725331.csv\",\n",
    "        )\n",
    "        # Change the download button's href to the download path\n",
    "        html_pre = \"<a  href='\"\n",
    "        html_post= \"' download ><button class='btn btn-danger'><i class='fa fa-cart-arrow-down'></i> All Data</button></a>\" \n",
    "        html( id='downloadAllData', html=paste( html_pre, file_path, html_post, sep=\"\" )  )\n",
    "        \n",
    "    }) #<-- observeEvent end\n",
    "})  #<-- Quote end\n",
    "body(server) = callConcat( body(server), temp )\n"
   ]
  },
  {
   "cell_type": "markdown",
   "metadata": {},
   "source": [
    "# <font color=\"blue\">Run  Shiny</font> "
   ]
  },
  {
   "cell_type": "markdown",
   "metadata": {},
   "source": [
    "We change the following options so that <font color=\"blue\">RShiny</font> runs at an exposed port and on the computer."
   ]
  },
  {
   "cell_type": "code",
   "execution_count": 4142,
   "metadata": {},
   "outputs": [],
   "source": [
    "options(shiny.port = 8888)\n",
    "options(shiny.host = \"0.0.0.0\")"
   ]
  },
  {
   "cell_type": "markdown",
   "metadata": {},
   "source": [
    "We run the app!"
   ]
  },
  {
   "cell_type": "code",
   "execution_count": 4143,
   "metadata": {},
   "outputs": [
    {
     "name": "stderr",
     "output_type": "stream",
     "text": [
      "\n",
      "Listening on http://0.0.0.0:8888\n",
      "`geom_smooth()` using method = 'loess' and formula 'y ~ x'\n",
      "`geom_smooth()` using method = 'loess' and formula 'y ~ x'\n",
      "\n"
     ]
    }
   ],
   "source": [
    "shinyApp(ui = fluidPage( useShinyjs(), style='margin-left:5px; margin-right:5px', ui  ), server = server)"
   ]
  },
  {
   "cell_type": "markdown",
   "metadata": {},
   "source": [
    "# <font color=\"brown\">Scratch Paper</font>"
   ]
  },
  {
   "cell_type": "markdown",
   "metadata": {},
   "source": [
    "This is where I store all of the code that is currenly not being used by the website, but that might be useful in the future."
   ]
  },
  {
   "cell_type": "markdown",
   "metadata": {},
   "source": [
    "I converted the code to markdown cells so that it doesn't cause issues when clicking `run all` code cells. Turn the cells back to code cells to see what they do."
   ]
  },
  {
   "cell_type": "markdown",
   "metadata": {},
   "source": [
    "## Questionnaire Analysis"
   ]
  },
  {
   "cell_type": "markdown",
   "metadata": {},
   "source": [
    "Non visualized data names\n",
    "\n",
    "``` python\n",
    "hla <- read.csv('./allDataForApp/Formatted Files/hla.csv', row.names = NULL)\n",
    "questions <- read.csv('./allDataForApp/Formatted Files/questionnaire.csv', row.names = NULL)\n",
    "questions_dict <- read.csv('./allDataForApp/Formatted Files/questionnaire_dictionary.csv',row.names = NULL)\n",
    "```"
   ]
  },
  {
   "cell_type": "markdown",
   "metadata": {
    "scrolled": true
   },
   "source": [
    "print( questions_dict )"
   ]
  },
  {
   "cell_type": "markdown",
   "metadata": {},
   "source": [
    "questions"
   ]
  },
  {
   "cell_type": "markdown",
   "metadata": {},
   "source": [
    "questions[1,] "
   ]
  },
  {
   "cell_type": "markdown",
   "metadata": {},
   "source": [
    "print(dim(hla))\n",
    "hla"
   ]
  },
  {
   "cell_type": "markdown",
   "metadata": {},
   "source": [
    "Checking to see if locus name column is unqiue"
   ]
  },
  {
   "cell_type": "markdown",
   "metadata": {},
   "source": [
    "length( as.character( hla$locus_name ) )"
   ]
  },
  {
   "cell_type": "markdown",
   "metadata": {},
   "source": [
    "unique( as.character( hla$locus_name ) )"
   ]
  },
  {
   "cell_type": "markdown",
   "metadata": {},
   "source": [
    "## Basic ui and server"
   ]
  },
  {
   "cell_type": "markdown",
   "metadata": {},
   "source": [
    "ui <- basicPage(\n",
    "  plotlyOutput(\"dataPlot\")\n",
    ")\n",
    "\n",
    "server <- function(input, output) {\n",
    "  output$dataPlot <-   renderPlotly({     # plot(x, sin(x))  })\n",
    "    ggplot( to_graph, aes(x=X, y=counts, color=groups) ) + \n",
    "      geom_point() +\n",
    "      labs(x='Days Alive', y=\"Gene Expression (counts)\", title=paste(gene_name,\" Expression in Newborns\"), fill = NULL, colour = NULL ) +\n",
    "      theme_gdocs()\n",
    "  })\n",
    "\n",
    "}\n"
   ]
  },
  {
   "cell_type": "markdown",
   "metadata": {},
   "source": [
    "## <font color=\"purple\">Maybe Useful-</font> ShinyJS"
   ]
  },
  {
   "cell_type": "markdown",
   "metadata": {},
   "source": [
    "The following code can be added to the notebook to add javascript and CSS features to the Shiny application."
   ]
  },
  {
   "cell_type": "markdown",
   "metadata": {},
   "source": [
    "``` python\n",
    "jscode <- \"\n",
    "shinyjs.disableTab = function(name) {\n",
    "}\n",
    "\"\n",
    "\n",
    "css <- \"\n",
    ".nav li a.disabled {\n",
    "background-color: #aaa !important;\n",
    "color: #333 !important;\n",
    "cursor: not-allowed !important;\n",
    "border-color: #aaa !important;\n",
    "}\"\n",
    "```"
   ]
  },
  {
   "cell_type": "markdown",
   "metadata": {},
   "source": [
    "After the code is written put a line of code like the one below in the <font color=\"green\">ui</font>"
   ]
  },
  {
   "cell_type": "markdown",
   "metadata": {},
   "source": [
    "``` python\n",
    "extendShinyjs(text = jscode)\n",
    "```"
   ]
  },
  {
   "cell_type": "markdown",
   "metadata": {},
   "source": [
    "## Maybe Useful: Boostrap Page"
   ]
  },
  {
   "cell_type": "markdown",
   "metadata": {},
   "source": [
    "``` python\n",
    "ui = bootstrapPage( h1(\"howdy Dowdy\") )\n",
    "\n",
    "```"
   ]
  },
  {
   "cell_type": "code",
   "execution_count": null,
   "metadata": {},
   "outputs": [],
   "source": []
  }
 ],
 "metadata": {
  "hide_input": false,
  "kernelspec": {
   "display_name": "R (Juniper)",
   "language": "R",
   "name": "juniper"
  },
  "language_info": {
   "codemirror_mode": "r",
   "file_extension": ".R",
   "mimetype": "text/x-r-source",
   "name": "R",
   "pygments_lexer": "r",
   "version": "3.5.1"
  },
  "toc": {
   "base_numbering": 1,
   "nav_menu": {},
   "number_sections": true,
   "sideBar": true,
   "skip_h1_title": false,
   "title_cell": "Table of Contents",
   "title_sidebar": "Contents",
   "toc_cell": false,
   "toc_position": {},
   "toc_section_display": true,
   "toc_window_display": false
  },
  "varInspector": {
   "cols": {
    "lenName": 16,
    "lenType": 16,
    "lenVar": 40
   },
   "kernels_config": {
    "python": {
     "delete_cmd_postfix": "",
     "delete_cmd_prefix": "del ",
     "library": "var_list.py",
     "varRefreshCmd": "print(var_dic_list())"
    },
    "r": {
     "delete_cmd_postfix": ") ",
     "delete_cmd_prefix": "rm(",
     "library": "var_list.r",
     "varRefreshCmd": "cat(var_dic_list()) "
    }
   },
   "types_to_exclude": [
    "module",
    "function",
    "builtin_function_or_method",
    "instance",
    "_Feature"
   ],
   "window_display": false
  },
  "widgets": {
   "application/vnd.jupyter.widget-state+json": {
    "state": {},
    "version_major": 2,
    "version_minor": 0
   }
  }
 },
 "nbformat": 4,
 "nbformat_minor": 2
}
